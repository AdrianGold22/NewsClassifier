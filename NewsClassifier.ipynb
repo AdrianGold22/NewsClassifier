{
 "cells": [
  {
   "cell_type": "code",
   "execution_count": 1,
   "metadata": {
    "pycharm": {
     "is_executing": true,
     "name": "#%%\n"
    }
   },
   "outputs": [
    {
     "name": "stderr",
     "output_type": "stream",
     "text": [
      "[nltk_data] Downloading package cess_esp to C:\\Users\\Adrian\n",
      "[nltk_data]     Bolanos\\AppData\\Roaming\\nltk_data...\n",
      "[nltk_data]   Package cess_esp is already up-to-date!\n"
     ]
    }
   ],
   "source": [
    "import io\n",
    "import re\n",
    "from main import initial_path\n",
    "DIR_PATH = initial_path()\n",
    "import os\n",
    "import spacy\n",
    "import numpy as np\n",
    "import pandas as pd\n",
    "import matplotlib.pyplot as plt\n",
    "import seaborn as sns\n",
    "from tqdm import tqdm\n",
    "from collections import Counter\n",
    "from imblearn.over_sampling import RandomOverSampler\n",
    "from utils.text_analysis import TextAnalysis\n",
    "from runs.rss_scraping import rss_scrap, urls\n",
    "from sklearn.feature_extraction.text import CountVectorizer\n",
    "from sklearn.feature_extraction.text import TfidfVectorizer\n",
    "from sklearn.model_selection import train_test_split\n",
    "from sklearn.linear_model import LogisticRegression\n",
    "from sklearn.model_selection import cross_val_score\n",
    "from sklearn.metrics import accuracy_score, recall_score, f1_score, precision_score\n",
    "from sklearn import metrics\n",
    "from sklearn.metrics import classification_report\n",
    "from sklearn.metrics import confusion_matrix\n",
    "import nltk\n",
    "nltk.download('cess_esp')\n",
    "words = set( nltk.corpus.cess_esp.words())"
   ]
  },
  {
   "cell_type": "code",
   "execution_count": 2,
   "metadata": {
    "pycharm": {
     "name": "#%%\n"
    }
   },
   "outputs": [
    {
     "name": "stdout",
     "output_type": "stream",
     "text": [
      "Language: es\n",
      "Text Analysis: ['emoji', 'tagger', 'parser', 'stemmer', 'ner']\n"
     ]
    }
   ],
   "source": [
    "ta = TextAnalysis('es')"
   ]
  },
  {
   "cell_type": "code",
   "execution_count": 3,
   "metadata": {
    "pycharm": {
     "name": "#%%\n"
    },
    "scrolled": true
   },
   "outputs": [
    {
     "data": {
      "text/html": [
       "<div>\n",
       "<style scoped>\n",
       "    .dataframe tbody tr th:only-of-type {\n",
       "        vertical-align: middle;\n",
       "    }\n",
       "\n",
       "    .dataframe tbody tr th {\n",
       "        vertical-align: top;\n",
       "    }\n",
       "\n",
       "    .dataframe thead th {\n",
       "        text-align: right;\n",
       "    }\n",
       "</style>\n",
       "<table border=\"1\" class=\"dataframe\">\n",
       "  <thead>\n",
       "    <tr style=\"text-align: right;\">\n",
       "      <th></th>\n",
       "      <th>title</th>\n",
       "      <th>content</th>\n",
       "      <th>type</th>\n",
       "    </tr>\n",
       "  </thead>\n",
       "  <tbody>\n",
       "    <tr>\n",
       "      <th>0</th>\n",
       "      <td>Los elefantes que pensó Alexánder Robledo</td>\n",
       "      <td>Dice que le gustaría tener un contacto real co...</td>\n",
       "      <td>Cultura</td>\n",
       "    </tr>\n",
       "    <tr>\n",
       "      <th>1</th>\n",
       "      <td>Otra oportunidad para  ver lo mejor de 2016</td>\n",
       "      <td>- 17 años - Jericó, el infinito vuelo de los d...</td>\n",
       "      <td>Cultura</td>\n",
       "    </tr>\n",
       "    <tr>\n",
       "      <th>2</th>\n",
       "      <td>SENSACIÓN CREPUSCULAR</td>\n",
       "      <td>espera el milagroso  esquila del rebaño  venda...</td>\n",
       "      <td>Cultura</td>\n",
       "    </tr>\n",
       "    <tr>\n",
       "      <th>3</th>\n",
       "      <td>Salen los jugadores,  entran los directivos</td>\n",
       "      <td>La temporada que recién terminó para Nacional ...</td>\n",
       "      <td>Deportes</td>\n",
       "    </tr>\n",
       "    <tr>\n",
       "      <th>4</th>\n",
       "      <td>Como sexta en el ranking de la Fifa, Colombia ...</td>\n",
       "      <td>11. Suiza         1129 Sudamérica conserva su ...</td>\n",
       "      <td>Deportes</td>\n",
       "    </tr>\n",
       "  </tbody>\n",
       "</table>\n",
       "</div>"
      ],
      "text/plain": [
       "                                               title  \\\n",
       "0          Los elefantes que pensó Alexánder Robledo   \n",
       "1        Otra oportunidad para  ver lo mejor de 2016   \n",
       "2                              SENSACIÓN CREPUSCULAR   \n",
       "3        Salen los jugadores,  entran los directivos   \n",
       "4  Como sexta en el ranking de la Fifa, Colombia ...   \n",
       "\n",
       "                                             content      type  \n",
       "0  Dice que le gustaría tener un contacto real co...   Cultura  \n",
       "1  - 17 años - Jericó, el infinito vuelo de los d...   Cultura  \n",
       "2  espera el milagroso  esquila del rebaño  venda...   Cultura  \n",
       "3  La temporada que recién terminó para Nacional ...  Deportes  \n",
       "4  11. Suiza         1129 Sudamérica conserva su ...  Deportes  "
      ]
     },
     "execution_count": 3,
     "metadata": {},
     "output_type": "execute_result"
    }
   ],
   "source": [
    "data_raw = pd.read_csv(DIR_PATH, sep=';')\n",
    "data_raw.head()"
   ]
  },
  {
   "cell_type": "code",
   "execution_count": 4,
   "metadata": {},
   "outputs": [
    {
     "name": "stderr",
     "output_type": "stream",
     "text": [
      "100%|██████████| 1635/1635 [01:04<00:00, 25.41it/s]\n"
     ]
    }
   ],
   "source": [
    "setting = {'url': False, 'mention': False, 'emoji': False, 'hashtag': False, 'stopwords': True, 'relabel': False} \n",
    "list_sentences = []\n",
    "content_list =  data_raw['content'].to_list()\n",
    "for row in tqdm(content_list):\n",
    "    text = ta.clean_text(row, **setting)\n",
    "    #Eliminando direcciones de correo\n",
    "    text = re.sub('\\S*@\\S*\\s?','',text)\n",
    "    #Eliminando palabras en ingles\n",
    "    text = \" \".join(w for w in nltk.wordpunct_tokenize(text) if w.lower() in words or not w.isalpha())\n",
    "    list_sentences.append(text)"
   ]
  },
  {
   "cell_type": "code",
   "execution_count": 5,
   "metadata": {},
   "outputs": [
    {
     "name": "stdout",
     "output_type": "stream",
     "text": [
      "Text org: - 17 años - Jericó, el infinito vuelo de los días Dos veces al año el Colombo Americano y la Revista Kinetoscopio hacen el recuento de lo Mejor del año, una selección que escoge una serie de películas que presentaron en cada semestre y que para el criterio sus expertos son lo más destacado. Para la selección, que la hace el departamento de cine de la Revista Kinetoscopio, tienen en cuenta la asistencia a las salas durante ese periodo, además de los reconocimientos y la participación en festivales internacionales.  - Julieta - Aislados Toda la programación tiene boletería 2x1. - Camino a Estambul - La chica del tren \n",
      "\t\t\tProhibida su reproducción total o parcial. La traducción a cualquier idioma está permitida estrictamente para usos pedagógicos y debe citarse la fuente. Reproduction in whole or in part is forbidden. Translation in any language is permitted strictly for pedagogic uses without written permission, and credits shoud be given to EL MUNDO.\n",
      "      Webmaster: webmaster@elmundo.com - Contáctenos en la Calle 53 #74-50 Barrio Los Colores en Medellín - Colombia - Teléfono (574) 2642800\n",
      "\t\t\t - 24 semanas - Esperando al rey - El último viaje de mi vida “Creo que es importante tener la oportunidad de ver estas películas, no sólo porque son películas estética y narrativamente valiosas, sino por lo difícil que es encontrar cine colombiano y latinoamericano en las salas comerciales. Es una coincidencia afortunada, además, detrás de todas ellas hay directores jóvenes que están renovando tradiciones como las del cine de la violencia (Oscuro animal), el western (Pariente), y el realismo urbano (Los Nadie y Te prometo anarquía)”, concluyó Zuluaga.  El segundo semestre del 2016 no es la excepción y de las películas que proyectaron durante este periodo hay unas que creen que merecen ser exhibidas en la cartelera por segunda vez. Una segunda oportunidad para que muchos que no pudieron verlas-por tiempo o por desconocimiento-,puedan ponerse al tanto de lo mejor del cine de “culto”, en particular de varias películas extranjeras que ganaron premios en festivales internacionales.  Para Pedro Adrián Zuluaga, crítico de cine y exdirector de la Revista Kinetoscopio, es interesante que en esta selección estén algunas películas colombianas y latinoamericanas independientes, ya que es necesario que estos productos, que no tienen mucha cabida en circuitos más comerciales, se presenten de nuevo para las personas que no tuvieron oportunidad de verlas, y por esto, desde su opinión, recomienda cuatro de ellas:  Los Nadie, Oscuro animal, Pariente y Te prometo anarquía.  - Destinos - Últimos días en el desierto \n",
      "\n",
      "Tex clean: años vuelo año americano revista recuento año selección serie películas presentaron semestre criterio expertos destacado selección departamento cine revista asistencia periodo participación internacionales programación . camino chica tren reproducción parcial traducción idioma permitida estrictamente fuente mundo calle barrio colores teléfono semanas esperando rey viaje vida importante oportunidad películas películas estética difícil encontrar cine colombiano latinoamericano comerciales coincidencia directores jóvenes tradiciones cine violencia oscuro animal pariente urbano anarquía concluyó semestre películas periodo creen merecen oportunidad pudieron puedan ponerse cine culto particular películas extranjeras ganaron premios internacionales crítico cine revista interesante selección estén películas colombianas independientes necesario productos cabida circuitos comerciales presenten personas tuvieron oportunidad opinión oscuro animal pariente anarquía destinos desierto\n"
     ]
    }
   ],
   "source": [
    "print('Text org: {0} \\n\\nTex clean: {1}'.format(content_list[1], list_sentences[1]))"
   ]
  },
  {
   "cell_type": "code",
   "execution_count": 6,
   "metadata": {},
   "outputs": [],
   "source": [
    "x = list_sentences\n",
    "y = data_raw['type'].to_list()"
   ]
  },
  {
   "cell_type": "code",
   "execution_count": 7,
   "metadata": {
    "pycharm": {
     "name": "#%%\n"
    }
   },
   "outputs": [
    {
     "name": "stdout",
     "output_type": "stream",
     "text": [
      "**Replica y_train: [('Ciencia y Tecnologia', 327), ('Cultura', 324), ('Deportes', 334), ('Economia', 330), ('Salud', 320)]\n"
     ]
    }
   ],
   "source": [
    "print('**Replica y_train:', sorted(Counter(y).items()))"
   ]
  },
  {
   "cell_type": "code",
   "execution_count": 8,
   "metadata": {
    "pycharm": {
     "name": "#%%\n"
    }
   },
   "outputs": [
    {
     "name": "stdout",
     "output_type": "stream",
     "text": [
      "**Replica train: [('Ciencia y Tecnologia', 230), ('Cultura', 227), ('Deportes', 252), ('Economia', 224), ('Salud', 211)], size 1144\n",
      "**Replica test: [('Ciencia y Tecnologia', 97), ('Cultura', 97), ('Deportes', 82), ('Economia', 106), ('Salud', 109)], size 491\n"
     ]
    }
   ],
   "source": [
    "x_train, x_test, y_train, y_test = train_test_split(x, y, test_size=0.30, random_state=8675309)\n",
    "print('**Replica train: {0}, size {1}'.format(sorted(Counter(y_train).items()), len(y_train)))\n",
    "print('**Replica test: {0}, size {1}'.format(sorted(Counter(y_test).items()), len(y_test)))"
   ]
  },
  {
   "cell_type": "markdown",
   "metadata": {},
   "source": [
    "## Features in Bag of Words"
   ]
  },
  {
   "cell_type": "code",
   "execution_count": 9,
   "metadata": {
    "pycharm": {
     "name": "#%%\n"
    }
   },
   "outputs": [],
   "source": [
    "vec = CountVectorizer(min_df=5, ngram_range=(1,3), max_features=5000, strip_accents='unicode', lowercase =True, analyzer='word')\n",
    "vec.fit(x_train)\n",
    "x_train = vec.transform(x_train)\n",
    "x_test = vec.transform(x_test)"
   ]
  },
  {
   "cell_type": "code",
   "execution_count": 10,
   "metadata": {},
   "outputs": [
    {
     "name": "stdout",
     "output_type": "stream",
     "text": [
      "['abajo', 'abierta', 'abiertas', 'abierto', 'abiertos', 'abordar', 'abre', 'abre puerta', 'abren', 'abril', 'abrio', 'abrir', 'abundancia', 'abuso', 'acaba', 'acaban', 'acabar', 'acabo', 'academico', 'acceder', 'acceso', 'accidente', 'accidentes', 'accion', 'acciones', 'acelerar', 'aceptacion', 'aceptar', 'acerca', 'acero', 'acompanado', 'aconseja', 'acoso', 'actitudes', 'activa', 'activacion', 'activar', 'activas', 'actividad', 'actividad economica', 'actividad fisica', 'actividades', 'activo', 'activos', 'acto', 'actor', 'actores', 'actuacion', 'actuaciones', 'actuaciones asegurado', 'actuaciones asegurado comunicando', 'actual', 'actuales', 'actualidad', 'actualidad cientifica', 'actualidad cientifica favor', 'actuan', 'actuar', 'acude', 'acude servicio', 'acude servicio medico', 'acudir', 'acudir redaccion', 'acuerdos', 'acumula', 'acumulacion', 'adaptacion', 'adaptado', 'adaptar', 'adecuada', 'adecuadamente', 'adecuadas', 'adecuado', 'adecuados', 'adelanta', 'adelantado', 'adelanto', 'adicional', 'adicionales', 'administracion', 'administraciones', 'administrar', 'adolescentes', 'adoptadas', 'adoptado', 'adoptar', 'adquirir', 'adquisicion', 'adultos', 'advierte', 'advierten', 'advirtio', 'aerea', 'aerolinea', 'aerolineas', 'aeropuerto', 'aerosoles', 'afecta', 'afectada', 'afectadas', 'afectado', 'afectados', 'afectan', 'afectar', 'afecto', 'aficion', 'aficionados', 'afirma', 'afirman', 'afortunadamente', 'afrontar', 'agencia', 'agencia espacial', 'agencia espacial europea', 'agencia licencia', 'agencia ofrece', 'agencia ofrece servicios', 'agenda', 'agente', 'agentes', 'agosto', 'agosto expertos', 'agosto expertos velocidad', 'agrega', 'agricultores', 'agricultura', 'agua', 'agua energia', 'aguas', 'aguda', 'agujero', 'agujero negro', 'agujeros', 'agujeros negros', 'ahorro', 'aire', 'aire libre', 'aires', 'aislamiento', 'aislante', 'ajuste', 'ala', 'ala pivot', 'alarma', 'alba', 'alcalde', 'alcance', 'alcanza', 'alcanzado', 'alcanzar', 'alcanzar superconductividad', 'alcanzar superconductividad capacidad', 'alcanzo', 'alcohol', 'aleman', 'alemanes', 'alemanes proceso', 'alemanes proceso usando', 'alero', 'alerta', 'algoritmos', 'alguien', 'alianza', 'alimentacion', 'alimentar', 'alimentaria', 'alimentarios', 'alimento', 'alimentos', 'alla', 'alma', 'almacenamiento', 'alta', 'alta resolucion', 'altamente', 'altas', 'altas presiones', 'altas presiones avance', 'altas programa', 'altas programa sombras', 'alteracion', 'alteraciones', 'alterar', 'alternativa', 'alternativas', 'altitud', 'alto', 'alto nivel', 'altos', 'altura', 'alumnos', 'alza', 'ambas', 'ambicion', 'ambiental', 'ambientales', 'ambiente', 'ambientes', 'ambito', 'ambitos', 'amenaza', 'amenazas', 'americana', 'amigo', 'amigos', 'amor', 'amplia', 'amplia gama', 'ampliacion', 'ampliar', 'amplio', 'anade', 'anadido', 'analisis', 'analisis datos', 'analisis estadistico', 'analisis estadistico datos', 'analisis sangre', 'analisis situacion', 'analista', 'analistas', 'analiza', 'analizados', 'analizan', 'analizar', 'analizar interaccion', 'analizar interaccion luz', 'analizo', 'angel', 'angeles', 'angustia', 'anillo', 'anillos', 'animacion', 'animal', 'animales', 'animo', 'ano', 'ano millones', 'ano viene', 'anos', 'anos anos', 'anos deteccion', 'anos deteccion vida', 'anos edad', 'anos exito', 'anos exito actuaciones', 'anos luz', 'anos situandose', 'anos situandose mayores', 'anotar', 'ansiedad', 'anteriores', 'anteriormente', 'anti', 'anticuerpos', 'anticuerpos proyecto', 'anticuerpos proyecto centros', 'antigua', 'antiguedad', 'antiguo', 'antiguos', 'anual', 'anuales', 'anunciado', 'anunciado proyectos', 'anunciado proyectos ganadores', 'anuncio', 'anuncios', 'aparatos', 'aparece', 'aparecen', 'aparecer', 'aparecio', 'aparentemente', 'aparicion', 'aparte', 'apertura', 'aplica', 'aplicacion', 'aplicaciones', 'aplicada', 'aplicado', 'aplicado ensayo', 'aplicado ensayo detectar', 'aplican', 'aplicar', 'aplicarse', 'aporta', 'aportacion', 'aportar', 'aportar ideas', 'aportar ideas tratamientos', 'apostar', 'apoya', 'apoyar', 'apoyo', 'apoyos', 'aprender', 'aprendido', 'aprendizaje', 'aprobacion', 'aprobada', 'aprobado', 'aprovechar', 'aproximacion', 'apuesta', 'apuestas', 'apunta', 'apunta investigador', 'apuntado', 'apuntan', 'apunto', 'arbol', 'archivo', 'area', 'areas', 'arena', 'argentina', 'argentino', 'argumentos', 'armas', 'aromas', 'arqueologia', 'arquitectura', 'arresto', 'arresto anos', 'arresto anos exito', 'arte', 'artefactos', 'artefactos culturales', 'artefactos culturales mente', 'arterias', 'arterias enfermedad', 'arterias enfermedad permanecer', 'artes', 'articulo', 'articulos', 'artificial', 'artificiales', 'artista', 'artistas', 'artistica', 'artistico', 'ascenso', 'asciende', 'asciende significativamente', 'asciende significativamente anos', 'asegura', 'asegurado', 'asegurado comunicando', 'asegurado comunicando clara', 'aseguran', 'asegurar', 'asesor', 'asientos', 'asimismo', 'asistencia', 'asociacion', 'asociada', 'asociado', 'aspecto', 'aspectos', 'aspectos educacion', 'aspectos educacion salidas', 'asumir', 'asunto', 'asuntos', 'atacante', 'atacar', 'ataque', 'ataques', 'atencion', 'atencion medica', 'atender', 'aterrizaje', 'atlantico', 'atlas', 'atletico', 'atmosferica', 'atomica', 'atraer', 'atras', 'audiencia', 'audiovisual', 'aumenta', 'aumentado', 'aumentando', 'aumentar', 'aumento', 'ausencia', 'austral', 'automatica', 'autonoma', 'autonomas', 'autonomia', 'autonomos', 'autor', 'autor principal', 'autora', 'autores', 'autores estudio', 'autoridad', 'autoridades', 'autoridades sanitarias', 'autorizacion', 'autorizacion escrita', 'autorizacion escrita titular', 'autos', 'avance', 'avance aplicar', 'avance sistemas', 'avance sistemas electricos', 'avances', 'avanza', 'avanzada', 'avanzadas', 'avanzados', 'avanzando', 'avanzar', 'aviones', 'aviso', 'aviso derecho', 'aviso derecho replica', 'aviso legal', 'aviso legal politica', 'ayuda', 'ayuda cientificos', 'ayuda cientificos universidades', 'ayudar', 'ayudara', 'ayudas', 'ayudas destinadas', 'ayudas destinadas resolver', 'ayude', 'ayuntamiento', 'azar', 'azufre', 'azufre carbono', 'azufre carbono altas', 'azul', 'azules', 'bacteria', 'bacterias', 'baile', 'baja', 'bajar', 'bajas', 'bajas alcanzar', 'bajas alcanzar superconductividad', 'bajos', 'balance', 'balon', 'baloncesto', 'banca', 'banco', 'banco central', 'banco mexico', 'bancos', 'banda', 'banquillo', 'bar', 'bares', 'barrera', 'barrio', 'basa', 'basada', 'basado', 'basado fase', 'basado fase ocurren', 'basan', 'base', 'base datos', 'bases', 'basica', 'basicamente', 'basicas', 'basico', 'basicos', 'batalla', 'bateria', 'baterias', 'bebe', 'bebes', 'becas', 'belleza', 'beneficio', 'beneficios', 'biblioteca', 'bicicleta', 'bienes', 'bienestar', 'billones', 'biologia', 'biologica', 'biologicas', 'biologico', 'biologicos', 'biomasa', 'biomedica', 'biomedica red', 'biotecnologia', 'blanca', 'blancas', 'blanco', 'blancos', 'bloque', 'boca', 'bola', 'boletin', 'boletin contenidos', 'boletin contenidos actualidad', 'bolsa', 'bolsas', 'botella', 'boton', 'brasileno', 'brazo', 'breves', 'breves preguntas', 'brillante', 'brillantes', 'brillo', 'britanica', 'britanico', 'brote', 'brotes', 'busca', 'buscan', 'buscando', 'buscar', 'buscara', 'busqueda', 'caballos', 'cabe', 'cabeza', 'cabo', 'cadena', 'cadenas', 'caer', 'cafe', 'caida', 'caja', 'calcula', 'calcular', 'calculos', 'calentamiento', 'calidad', 'calidad vida', 'caliente', 'calificacion', 'calle', 'calles', 'calor', 'camara', 'camaras', 'cambia', 'cambiado', 'cambian', 'cambiando', 'cambiar', 'cambio', 'cambio expectativas', 'cambio expectativas altas', 'cambios', 'camino', 'camiseta', 'campana', 'campanas', 'campeon', 'campeona', 'campeonato', 'campeones', 'campo', 'campos', 'canal', 'canales', 'canales matriz', 'canales matriz facilita', 'canasta', 'cancer', 'cancer mama', 'cancer pulmon', 'cancer redaccion', 'cancer redaccion verlo', 'canceres', 'cancha', 'cancion', 'canciones', 'candidata', 'candidata levanto', 'candidata levanto dudas', 'candidatas', 'candidato', 'candidatos', 'cansancio', 'cantante', 'cantidad', 'cantidades', 'capa', 'capaces', 'capaces crear', 'capaces crear canales', 'capaces reaccionar', 'capaces reaccionar frente', 'capacidad', 'capacidad materiales', 'capacidad materiales conducir', 'capacidades', 'capas', 'capaz', 'capital', 'capitan', 'capricho', 'captura', 'capturar', 'cara', 'caracter', 'caracteristica', 'caracteristicas', 'caracteriza', 'carbono', 'carbono altas', 'carbono altas presiones', 'carga', 'cargo', 'carne', 'carrera', 'carreras', 'carretera', 'carta', 'casa', 'casas', 'caso', 'casos', 'casos graves', 'casos graves temperaturas', 'castillo', 'catalan', 'catalana', 'catalanes', 'categoria', 'categorias', 'causa', 'causada', 'causadas', 'causado', 'causar', 'causas', 'cavidad', 'cayo', 'cazadores', 'celebra', 'celebracion', 'celebrado', 'celebro', 'celula', 'celular', 'celulas', 'celulas infectadas', 'celulas infectadas patogenos', 'celulas madre', 'celulas madre modificadas', 'centenar', 'centenar piezas', 'centenar piezas incluidos', 'centra', 'centrado', 'central', 'central defensa', 'centrales', 'centro', 'centro anos', 'centro anos deteccion', 'centro galaxia', 'centro investigacion', 'centro investigacion biomedica', 'centro mixto', 'centro nacional', 'centro regulacion', 'centros', 'centros educativos', 'centros internacionales', 'centros internacionales mecanismo', 'centros investigacion', 'centros investigacion espanoles', 'centros sanitarios', 'cepas', 'cercana', 'cercanas', 'cercano', 'cercanos', 'cerebral', 'cerebro', 'ceremonia', 'ceremonia favor', 'ceremonia favor salud', 'cero', 'cerrada', 'cerrado', 'cerrados', 'cerrar', 'cerraron', 'cerro', 'certeza', 'certificacion', 'charla', 'chicas', 'china', 'china pretende', 'china pretende convertirse', 'chino', 'chip', 'choque', 'ciclo', 'cielo', 'cien', 'ciencia', 'ciencia abierta', 'ciencia espanola', 'ciencia espanola reina', 'ciencia innovacion', 'ciencia tecnologia', 'ciencias', 'cientifica', 'cientifica favor', 'cientifica favor salud', 'cientificas', 'cientifico', 'cientificos', 'cientificos excepcionalmente', 'cientificos excepcionalmente complejos', 'cientificos instituto', 'cientificos instituto investigacion', 'cientificos liderado', 'cientificos universidad', 'cientificos universidades', 'cientificos universidades descubierto', 'cientos', 'cientos millones', 'cierre', 'cierre ano', 'cierres', 'cifra', 'cifras', 'cigarrillos', 'cine', 'cinematografica', 'cinta', 'cinturon', 'circuito', 'circuitos', 'circulacion', 'circular', 'circunstancias', 'cita', 'citas', 'ciudad', 'ciudad intervenciones', 'ciudad intervenciones reducir', 'ciudad mexico', 'ciudadana', 'ciudadania', 'ciudadanos', 'ciudades', 'civil', 'clara', 'clara acudir', 'claramente', 'claras', 'claros', 'clase', 'clases', 'clasico', 'clasificacion', 'clausura', 'clave', 'claves', 'cliente', 'clientes', 'clima', 'clinica', 'club', 'clubes', 'cobertura', 'cobrar', 'coche', 'coches', 'cocina', 'codigo', 'cohete', 'coincide', 'coinciden', 'coincidiendo', 'colaboracion', 'colaboracion internacional', 'colaborado', 'colaboradores', 'colaborar', 'colapso', 'coleccion', 'colectivo', 'colectivos', 'colegas', 'colegio', 'colegios', 'coloca', 'colocada', 'colocada metro', 'colocada metro paciente', 'colocar', 'colombiana', 'colombiana futbol', 'colombiano', 'colombianos', 'colombianos reproduccion', 'colombianos reproduccion parcial', 'color', 'colores', 'columna', 'combate', 'combatir', 'combinacion', 'combustible', 'combustion', 'comenta', 'comentario', 'comentarios', 'comenzado', 'comenzado probar', 'comenzado probar pacientes', 'comenzando', 'comenzando distribucion', 'comenzando distribucion candidata', 'comenzar', 'comenzo', 'comer', 'comercial', 'comerciales', 'comercio', 'comercio electronico', 'cometa', 'comida', 'comienza', 'comienzo', 'comision', 'comision economica', 'comision europea', 'comision nacional', 'comisiones', 'comite', 'companera', 'companero', 'companeros', 'compania', 'companias', 'comparacion', 'comparado', 'comparar', 'comparte', 'comparten', 'compartida', 'compartido', 'compartimos', 'compartio', 'compartir', 'compensar', 'competencia', 'competencias', 'competicion', 'competiciones', 'competir', 'competitividad', 'compleja', 'complejas', 'complejidad', 'complejo', 'complejos', 'complejos figuran', 'complejos figuran iniciativa', 'completa', 'completamente', 'completar', 'completo', 'completos', 'complicada', 'complicado', 'componente', 'componentes', 'comportamiento', 'comportamientos', 'composicion', 'compra', 'comprar', 'compras', 'comprender', 'comprension', 'comprobar', 'compromiso', 'compromisos', 'compuesta', 'compuesto', 'compuesto hidrogeno', 'compuesto hidrogeno azufre', 'compuestos', 'computacion', 'comun', 'comunes', 'comunicacion', 'comunicacion temas', 'comunicacion temas tenis', 'comunicaciones', 'comunicado', 'comunicando', 'comunicando clara', 'comunicando clara acudir', 'comunicarse', 'comunidad', 'comunidad cientifica', 'comunidades', 'comunidades autonomas', 'comunitaria', 'concentracion', 'concentraciones', 'concepto', 'conceptos', 'conciencia', 'concierto', 'concluir', 'conclusion', 'conclusiones', 'concluye', 'concluyen', 'concluyo', 'concreta', 'concretamente', 'concretas', 'concreto', 'concurso', 'condicion', 'condiciones', 'conduccion', 'conduce', 'conducir', 'conducir corriente', 'conducir corriente electrica', 'conducta', 'conductas', 'conectado', 'conexion', 'conferencia', 'conferencia prensa', 'confia', 'confianza', 'configuracion', 'confinamiento', 'confirma', 'confirma suscripcion', 'confirma suscripcion recuerda', 'confirmar', 'confirmo', 'conflictos', 'conforme', 'confusion', 'congreso', 'conjunta', 'conjunto', 'conjuntos', 'conlleva', 'conoce', 'conocemos', 'conocen', 'conocida', 'conocidas', 'conocido', 'conocidos', 'conocimiento', 'conocimientos', 'conocio', 'consciente', 'conscientes', 'consecuencia', 'consecuencias', 'conseguido', 'conseguirlo', 'conseguirlo viaje', 'conseguirlo viaje regreso', 'consejo', 'consejo europeo', 'consejo europeo investigacion', 'consejo superior', 'consejo superior investigaciones', 'consejos', 'consejos acude', 'consejos acude servicio', 'consenso', 'conserva', 'conservacion', 'considerado', 'considerados', 'consideramos', 'consideran', 'considerar', 'consiguiente', 'consiguio', 'consiste', 'consorcio', 'constante', 'constantemente', 'constelacion', 'constituye', 'constituyen', 'construccion', 'construido', 'construir', 'consulta', 'consultar', 'consultas', 'consumidores', 'consumo', 'contaba', 'contacto', 'contactos', 'contagiado', 'contagiar', 'contagio', 'contaminacion', 'contaminantes', 'contar', 'contara', 'contener', 'contenido', 'contenidos', 'contenidos actualidad', 'contenidos actualidad cientifica', 'contenidos preferencias', 'contenidos preferencias breves', 'contenidos recibir', 'contexto', 'contiene', 'contienen', 'continente', 'continua', 'continuacion', 'continuan', 'continuar', 'continuara', 'continuidad', 'continuo', 'conto', 'contraer', 'contrario', 'contrarrestar', 'contratacion', 'contrato', 'contratos', 'contribucion', 'contribuido', 'contribuir', 'contribuye', 'contribuyen', 'control', 'controlado', 'controlar', 'convencional', 'convencionales', 'conversacion', 'conversion', 'convertido', 'convertir', 'convertirse', 'convertirse tercer', 'convertirse tercer pais', 'convierte', 'convierten', 'convirtio', 'convocatoria', 'cooperacion', 'coordinacion', 'coordinado', 'coordinador', 'copa', 'corazon', 'corona', 'corporal', 'correcta', 'correctamente', 'correcto', 'corredores', 'corregir', 'correo', 'correr', 'correspondiente', 'corriente', 'corriente electrica', 'corriente electrica resistencia', 'corrientes', 'corrupcion', 'corta', 'corte', 'cortesia', 'corto', 'corto plazo', 'cosa', 'costa', 'costa rica', 'costas', 'coste', 'costes', 'costos', 'craneo', 'crea', 'creacion', 'creado', 'creando', 'crear', 'crear canales', 'crear canales matriz', 'crecer', 'crecido', 'creciendo', 'creciente', 'crecimiento', 'crecio', 'credito', 'creditos', 'cree', 'creen', 'creencias', 'creer', 'creia', 'creo', 'crisis', 'crisis economica', 'crisis sanitaria', 'cristal', 'cristales', 'cristales materia', 'cristales materia estructura', 'criterios', 'critica', 'criticas', 'critico', 'cronica', 'cronico', 'cruce', 'crucial', 'cuadro', 'cualquiera', 'cuarta', 'cuarto', 'cuartos', 'cubre', 'cubrir', 'cuello', 'cuentan', 'cuentas', 'cuerpo', 'cuerpo tecnico', 'cuerpos', 'cuesta', 'cuestion', 'cuestiones', 'cueva', 'cuidado', 'cuidados', 'cuidar', 'culpa', 'cultivo', 'cultivos', 'cultura', 'cultura cientifica', 'cultural', 'culturales', 'culturales mente', 'culturales mente humana', 'culturas', 'cumple', 'cumplen', 'cumplimiento', 'cumplir', 'cumulo', 'cuota', 'cura', 'curso', 'cursos', 'cuya', 'cuyas', 'cuyo', 'cuyo lanzamiento', 'cuyo lanzamiento previsto', 'cuyos', 'dada', 'damos', 'dando', 'dano', 'danos', 'dara', 'darle', 'darles', 'darse', 'datos', 'datos casos', 'datos quimicos', 'datos quimicos mision', 'debate', 'debates', 'debemos', 'debera', 'deberan', 'deberia', 'deberiamos', 'deberian', 'debia', 'debian', 'debil', 'debiles', 'debilidad', 'debio', 'decada', 'decadas', 'decenas', 'decia', 'decidido', 'decidieron', 'decidio', 'decidir', 'decision', 'decisiones', 'declara', 'declaracion', 'declaraciones', 'declaro', 'decreto', 'dedicada', 'dedicado', 'defensa', 'define', 'definicion', 'definir', 'definitiva', 'definitivamente', 'definitivo', 'deja', 'dejado', 'dejan', 'dejando', 'dejar', 'dejara', 'dejaron', 'delantero', 'demanda', 'demandas', 'demostrado', 'demostrar', 'demostraron', 'demostro', 'demuestra', 'demuestran', 'denominada', 'denominado', 'densidad', 'departamento', 'depende', 'dependen', 'dependencia', 'dependiendo', 'dependiendo perfil', 'dependiendo perfil selecciona', 'deporte', 'deportes', 'deportes marca', 'deportes marca registrada', 'deportista', 'deportistas', 'deportiva', 'deportiva derechos', 'deportiva derechos reservados', 'deportivas', 'deportivo', 'deportivos', 'derecha', 'derecho', 'derecho replica', 'derecho replica terminos', 'derechos', 'derechos reservados', 'derechos reservados colombianos', 'derechos reservados expansion', 'derrota', 'derrotas', 'desacuerdo', 'desafios', 'desagradable', 'desaparecer', 'desarrolla', 'desarrollado', 'desarrollado investigadores', 'desarrollado investigadores universidad', 'desarrollado salud', 'desarrollado salud destinado', 'desarrollados', 'desarrollan', 'desarrollar', 'desarrollo', 'desarrollo herramientas', 'desarrollo herramientas diagnostico', 'desarrollo sindrome', 'desarrollo sindrome registro', 'desarrollo sostenible', 'desarrollos', 'descanso', 'descarga', 'descarga movil', 'descarga movil informacion', 'descarga movil mapa', 'descartar', 'descenso', 'desconfianza', 'desconoce', 'desconocido', 'describe', 'describe vias', 'describe vias tratamiento', 'describir', 'descrito', 'descubierto', 'descubierto forma', 'descubierto forma generar', 'descubrimiento', 'descubrimientos', 'descubrio', 'descubrir', 'descuentos', 'desempeno', 'desempleo', 'deseo', 'deseos', 'desierto', 'desigualdades', 'desinfeccion', 'desplazamientos', 'destaca', 'destacado', 'destacados', 'destacan', 'destacar', 'destaco', 'destellos', 'destinadas', 'destinadas resolver', 'destinadas resolver problemas', 'destinado', 'destinado personas', 'destinado personas dispositivo', 'destinados', 'destino', 'detallado', 'detalle', 'detalles', 'deteccion', 'deteccion vida', 'deteccion vida planetas', 'detecta', 'detectado', 'detectar', 'detectar anticuerpos', 'detectar anticuerpos proyecto', 'detectar presencia', 'detectar presencia superficies', 'detectaron', 'detener', 'deterioro', 'determinacion', 'determinada', 'determinado', 'determinados', 'determinante', 'determinar', 'deuda', 'deudas', 'diagnostico', 'diagnostico tratamiento', 'dialogo', 'diaria', 'diarias', 'diario', 'diario laboratorio', 'diario laboratorio presentan', 'diarios', 'dibujos', 'dibujos medalla', 'dibujos medalla diario', 'dicha', 'dichas', 'diciembre', 'diciembre unidad', 'diciembre unidad editorial', 'dieta', 'diez', 'diez anos', 'diez intentos', 'diez intentos equipo', 'diez intentos estudio', 'diferencia', 'diferencias', 'dificil', 'dificiles', 'dificultad', 'dificultades', 'difusion', 'digital', 'digitales', 'digo', 'dimension', 'dimensiones', 'dinamica', 'dinero', 'direccion', 'directa', 'directa espera', 'directa espera llegue', 'directamente', 'directiva', 'directivo', 'directivos', 'directo', 'director', 'director instituto', 'directora', 'directos', 'dirige', 'dirigida', 'dirigido', 'dirigio', 'discapacidad', 'disciplina', 'disciplinas', 'disco', 'discos', 'discriminacion', 'discurso', 'disenado', 'disenados', 'disenar', 'disenar ciudad', 'disenar ciudad intervenciones', 'diseno', 'disfrutar', 'disminucion', 'disminuir', 'disminuye', 'disparo', 'dispone', 'disponen', 'disponer', 'disponibilidad', 'disponible', 'disponibles', 'disposicion', 'dispositivo', 'dispositivo comenzado', 'dispositivo comenzado probar', 'dispositivo detectar', 'dispositivo detectar presencia', 'dispositivos', 'dispositivos electronicos', 'disputado', 'distancia', 'distancia social', 'distancias', 'distinguir', 'distinta', 'distintas', 'distinto', 'distintos', 'distribucion', 'distribucion candidata', 'distribucion candidata levanto', 'distribuir', 'diversas', 'diversidad', 'diversos', 'division', 'division futbol', 'division futbol leido', 'division inicia', 'division inicia sesion', 'divulgacion', 'divulgacion igualdad', 'divulgacion igualdad internacionalizacion', 'doble', 'doce', 'doce dibujos', 'doce dibujos medalla', 'doctor', 'documental', 'documento', 'documentos', 'dolares', 'dolares anuales', 'dolares millones', 'dolor', 'domesticas', 'domestico', 'domicilio', 'domingo', 'don', 'dosis', 'dosis valores', 'dosis valores maximos', 'drogas', 'duda', 'dudas', 'dudas agosto', 'dudas agosto expertos', 'duelo', 'duque', 'dura', 'duracion', 'duro', 'eco', 'ecologista', 'ecologista presidente', 'ecologista presidente principales', 'economia', 'economias', 'economica', 'economicas', 'economico', 'economicos', 'economista', 'ecosistema', 'ecuador', 'edad', 'edad media', 'edades', 'edicion', 'edificio', 'edificios', 'editorial', 'editorial informacion', 'editorial informacion deportiva', 'educacion', 'educacion salidas', 'educacion salidas profesionales', 'educativa', 'educativo', 'educativos', 'efectiva', 'efectivas', 'efectividad', 'efectivo', 'efecto', 'efectos', 'efectos negativos', 'eficaces', 'eficacia', 'eficacia media', 'eficacia media vario', 'eficaz', 'eficiencia', 'eficiente', 'eje', 'ejecutiva', 'ejecutivo', 'ejemplos', 'ejercicio', 'elaborado', 'eleccion', 'elecciones', 'electrica', 'electrica resistencia', 'electrica resistencia perdidas', 'electricas', 'electricidad', 'electrico', 'electricos', 'electricos eficiencia', 'electrones', 'electronica', 'electronico', 'electronicos', 'elegir', 'elemento', 'elementos', 'elevada', 'elevado', 'eliminacion', 'eliminado', 'eliminar', 'eliminar celulas', 'eliminar celulas infectadas', 'eliminatorias', 'emergencia', 'emergencia sanitaria', 'emergentes', 'emision', 'emitida', 'emitida celulas', 'emocion', 'emocionante', 'emociones', 'empate', 'empezando', 'empezar', 'empezo', 'empieza', 'empiezan', 'emplea', 'empleados', 'empleando', 'empleos', 'empresa', 'empresarial', 'empresario', 'empresarios', 'empresas', 'encargado', 'encargados', 'encargados eliminar', 'encargados eliminar celulas', 'encontradas', 'encontrado', 'encontrados', 'encontramos', 'encontrar', 'encontraron', 'encontro', 'encuentran', 'encuentran olor', 'encuentro', 'encuentros', 'encuesta', 'encuestados', 'encuestas', 'endurecimiento', 'endurecimiento arterias', 'endurecimiento arterias enfermedad', 'energetica', 'energetico', 'energia', 'energia electrica', 'energia investigadores', 'energia investigadores universidad', 'energia solar', 'energias', 'energias renovables', 'enero', 'enfermedad', 'enfermedad permanecer', 'enfermedad permanecer largos', 'enfermedades', 'enfoque', 'enfrenta', 'enfrentamos', 'enfrentan', 'enfrentar', 'enfrentarse', 'enorme', 'enormes', 'ensayo', 'ensayo detectar', 'ensayo detectar anticuerpos', 'ensayo revelan', 'ensayo revelan eficacia', 'ensayos', 'ensayos fase', 'ensayos humanos', 'ensayos humanos datos', 'ensenanza', 'entender', 'entidad', 'entidades', 'entiende', 'entienden', 'entorno', 'entornos', 'entra', 'entrada', 'entran', 'entrar', 'entrega', 'entrega lunes', 'entrega lunes juicio', 'entregar', 'entrenador', 'entrenadores', 'entrenamiento', 'entrenamientos', 'entrenar', 'entrevista', 'entrevistas', 'entro', 'enviado', 'enviar', 'envio', 'epidemia', 'episodio', 'episodios', 'epoca', 'equilibrio', 'equipo', 'equipo cientificos', 'equipo es', 'equipo es division', 'equipo internacional', 'equipo internacional cientificos', 'equipo investigacion', 'equipo investigadores', 'equipo liderado', 'equipo universidad', 'equipos', 'equipos juegan', 'equivalente', 'error', 'error favor', 'errores', 'es', 'es division', 'es division inicia', 'es usuario', 'escala', 'escala mundial', 'escasa', 'escasez', 'escasez materia', 'escasez materia oscura', 'escena', 'escenario', 'escenarios', 'escolar', 'escolares', 'escolta', 'escombros', 'escribio', 'escrita', 'escrita titular', 'escrito', 'escritura', 'escuchar', 'escuela', 'escuelas', 'esencial', 'esenciales', 'esfuerzo', 'esfuerzos', 'espacial', 'espacial europea', 'espacial internacional', 'espaciales', 'espacio', 'espacios', 'espacios cerrados', 'espanol', 'espanola', 'espanola fundacion', 'espanola fundacion presentan', 'espanola reina', 'espanola reina ceremonia', 'espanolas', 'espanoles', 'espanoles hospital', 'espanoles hospital central', 'especial', 'especiales', 'especialistas', 'especializada', 'especialmente', 'especie', 'especies', 'especifica', 'especificamente', 'especificas', 'especifico', 'especificos', 'espectaculares', 'espectaculo', 'espectro', 'espera', 'espera llegue', 'espera llegue millones', 'esperaba', 'esperado', 'esperan', 'esperando', 'esperanza', 'esperanza vida', 'esperanzas', 'esperanzas movimiento', 'esperanzas movimiento ecologista', 'esperar', 'espero', 'espontanea', 'esposa', 'esposo', 'esquema', 'estabamos', 'estabilidad', 'estabilizar', 'estable', 'establece', 'establecer', 'establecido', 'estables', 'estacion', 'estacion espacial', 'estacion espacial internacional', 'estaciones', 'estadio', 'estadisticas', 'estadistico', 'estadistico datos', 'estadistico datos quimicos', 'estadounidense', 'estadounidenses', 'estallido', 'estancia', 'estandar', 'estaran', 'estaria', 'estatal', 'estatus', 'este', 'estelar', 'esten', 'estilo', 'estilo vida', 'estiman', 'estimar', 'estimulo', 'estimulos', 'estrategia', 'estrategias', 'estrecha', 'estrechamente', 'estrella', 'estrellas', 'estreno', 'estrictamente', 'estructura', 'estructura repite', 'estructura repite estudio', 'estructurales', 'estructuras', 'estructuras espectaculares', 'estudiado', 'estudiados', 'estudian', 'estudiante', 'estudiantes', 'estudiar', 'estudiara', 'estudio', 'estudio humanos', 'estudio humanos describe', 'estudio influencia', 'estudio influencia artefactos', 'estudio internacional', 'estudio investigadores', 'estudio liderado', 'estudio muestra', 'estudio permitido', 'estudio permitido disenar', 'estudio publicado', 'estudio publicado muestra', 'estudio publicado revista', 'estudio publicado tasa', 'estudio teorico', 'estudio teorico basado', 'estudio universidad', 'estudios', 'estuviera', 'estuvieron', 'etapa', 'etapas', 'etc', 'etica', 'europea', 'europea cuyo', 'europea cuyo lanzamiento', 'europeas', 'europeo', 'europeo austral', 'europeo investigacion', 'europeo investigacion anunciado', 'europeos', 'euros', 'evaluado', 'evaluar', 'eventos', 'evidencia', 'evidencias', 'evidente', 'evidentemente', 'evita', 'evitando', 'evitando ordenes', 'evitando ordenes arresto', 'evitar', 'evolucion', 'evolutiva', 'exactamente', 'examen', 'examen fisico', 'examinar', 'excelencia', 'excelente', 'excepcional', 'excepcionalmente', 'excepcionalmente complejos', 'excepcionalmente complejos figuran', 'excesiva', 'exceso', 'exclusion', 'exclusiva', 'exclusivamente', 'exige', 'existencia', 'existentes', 'existia', 'existir', 'exito', 'exito actuaciones', 'exito actuaciones asegurado', 'exito sonda', 'exito sonda china', 'exitos', 'exitosa', 'expansion', 'expectativas', 'expectativas altas', 'expectativas altas programa', 'experiencia', 'experiencias', 'experimentar', 'experimento', 'experimento liderado', 'experimento liderado universidad', 'experimentos', 'expertas', 'experto', 'expertos', 'expertos velocidad', 'expertos velocidad ensayos', 'explica', 'explica director', 'explica investigador', 'explica investigadora', 'explica provocadas', 'explica provocadas interaccion', 'explicacion', 'explicaciones', 'explicado', 'explicar', 'explosion', 'explosiones', 'explotacion', 'expone', 'exposicion', 'expresion', 'expresiones', 'expuesto', 'extension', 'exterior', 'externa', 'externas', 'extiende', 'extranjera', 'extranjero', 'extrano', 'extrema', 'extremo', 'extremos', 'fabricacion', 'fabricado', 'fabricado dispositivo', 'fabricado dispositivo detectar', 'fabricantes', 'fabricar', 'facil', 'facilidad', 'facilita', 'facilita llegada', 'facilita llegada investigadores', 'facilitar', 'facilitar fecha', 'facilitar fecha nacimiento', 'facilmente', 'factor', 'factores', 'factores ambientales', 'factores riesgo', 'facultad', 'falla', 'falla favor', 'falla favor error', 'fallecido', 'fallecimiento', 'fallecio', 'fallo', 'falsa', 'falsas', 'falsos', 'falta', 'falta paso', 'falta paso ve', 'fama', 'familia', 'familiar', 'familiares', 'familiares amigos', 'familias', 'famosa', 'famoso', 'farmaceuticas', 'farmacos', 'fase', 'fase ensayo', 'fase ensayo revelan', 'fase grupos', 'fase ocurren', 'fase ocurren fluctuaciones', 'fases', 'favor', 'favor error', 'favor error favor', 'favor marca', 'favor marca temas', 'favor puedes', 'favor puedes facilitar', 'favor salud', 'favor salud tipo', 'favorable', 'favorece', 'favorecen', 'favorecer', 'fe', 'febrero', 'fecha', 'fecha nacimiento', 'fechas', 'federacion', 'federacion colombiana', 'federacion colombiana futbol', 'federal', 'feliz', 'femenina', 'femenino', 'fenomeno', 'fenomenos', 'fiable', 'ficcion', 'fiebre', 'fiebre tos', 'fiel', 'figura', 'figuran', 'figuran iniciativa', 'figuran iniciativa analizar', 'figuras', 'filologia', 'filosofia', 'finales', 'finalizar', 'finalmente', 'financiacion', 'financiera', 'financieras', 'financiero', 'financieros', 'finanzas', 'fines', 'fino', 'firma', 'firmado', 'firmar', 'fiscal', 'fiscales', 'fisica', 'fisica particulas', 'fisica universidad', 'fisicas', 'fisico', 'fisicos', 'flor', 'flota', 'fluctuaciones', 'fluctuaciones sistemas', 'fluctuaciones sistemas particulas', 'flujo', 'foco', 'fomentar', 'fondo', 'fondo inversion', 'fondo inversion directa', 'fondos', 'forma', 'forma generar', 'forma generar cristales', 'forma inmediata', 'forma luz', 'forma luz propiedad', 'formacion', 'formado', 'forman', 'formando', 'formar', 'formas', 'formo', 'formula', 'formulas', 'fortalecer', 'foto', 'fotografia', 'fotones', 'fotos', 'fragmentos', 'frances', 'francesa', 'franquicia', 'fraude', 'frecuencia', 'frecuente', 'frecuentes', 'frenar', 'frente', 'frente senal', 'frente senal rescate', 'fria', 'frio', 'frontera', 'fronteras', 'fruto', 'fuego', 'fuente', 'fuentes', 'fueran', 'fuerte', 'fuertemente', 'fuertes', 'fuerza', 'fuerzas', 'fumar', 'funcion', 'funciona', 'funcional', 'funcionamiento', 'funcionar', 'funcionarios', 'funciones', 'fundacion', 'fundacion entrega', 'fundacion entrega lunes', 'fundacion presentan', 'fundador', 'fundamental', 'fundamentales', 'fundamentalmente', 'fusion', 'futbol', 'futbol leido', 'futbol leido portada', 'futbolista', 'futbolistas', 'futura', 'futuras', 'futuro', 'futuros', 'gafas', 'galan', 'galardon', 'galaxia', 'galaxia cercana', 'galaxia investigadores', 'galaxia investigadores instituto', 'gama', 'gamma', 'ganado', 'ganador', 'ganadores', 'ganadores ayudas', 'ganadores ayudas destinadas', 'ganancias', 'ganar', 'ganas', 'gano', 'garantizar', 'gas', 'gases', 'gases efecto', 'gasto', 'gastos', 'genera', 'generacion', 'generaciones', 'generado', 'generales', 'generalmente', 'generan', 'generando', 'generar', 'generar cristales', 'generar cristales materia', 'genero', 'genes', 'genetica', 'geneticamente', 'geneticas', 'genetico', 'geneticos', 'gente', 'gerente', 'gestion', 'gigante', 'gigantes', 'gira', 'giro', 'global', 'global ingreso', 'global ingreso reingreso', 'globales', 'gobierno', 'gobierno federal', 'gobiernos', 'gol', 'goles', 'golpe', 'gotas', 'grabaciones', 'gracias', 'gracias adelantado', 'grado', 'grados', 'grande', 'granos', 'grasa', 'gratuita', 'grave', 'gravedad', 'graves', 'graves temperaturas', 'graves temperaturas supondria', 'gravitacional', 'gripe', 'grupo', 'grupo investigacion', 'grupo investigacion sistemas', 'grupos', 'grupos investigacion', 'guerra', 'guerrero', 'guia', 'gusta', 'gusto', 'haberse', 'habido', 'habitacion', 'habitacion hospital', 'habitacion hospital positivo', 'habitantes', 'habitat', 'habitual', 'habituales', 'habitualmente', 'hablando', 'hablar', 'hablo', 'habria', 'habrian', 'hacerse', 'hacia', 'hacienda', 'haga', 'hagan', 'hallado', 'hallazgo', 'hambre', 'hara', 'haran', 'haria', 'has', 'hayan', 'hecha', 'hechos', 'hemisferio', 'hepatitis', 'hermana', 'hermano', 'hermanos', 'herramienta', 'herramienta permite', 'herramientas', 'herramientas diagnostico', 'herramientas diagnostico tratamiento', 'hicimos', 'hidalgo', 'hidrogeno', 'hidrogeno azufre', 'hidrogeno azufre carbono', 'hielo', 'hierro', 'higiene', 'hija', 'hijas', 'hijo', 'hijos', 'hipotesis', 'historia', 'historial', 'historias', 'historica', 'historico', 'historicos', 'hito', 'hogar', 'hogares', 'hombre', 'hombres', 'hombres mujeres', 'hombres mujeres asciende', 'homenaje', 'honor', 'hora', 'horario', 'horarios', 'horizonte', 'hospital', 'hospital central', 'hospital central defensa', 'hospital centros', 'hospital centros sanitarios', 'hospital positivo', 'hospital positivo colocada', 'hospital universitario', 'hospitalarios', 'hospitales', 'hospitalizados', 'hospitalizados pais', 'hospitalizados pais desarrollo', 'hubiera', 'hubieran', 'huella', 'huellas', 'hueso', 'huesos', 'human', 'humana', 'humana experimento', 'humana experimento liderado', 'humanas', 'humanidad', 'humano', 'humanos', 'humanos datos', 'humanos describe', 'humanos describe vias', 'humedad', 'humo', 'iba', 'iban', 'ida', 'idea', 'ideal', 'ideas', 'ideas tratamientos', 'ideas tratamientos cancer', 'identidad', 'identifica', 'identificacion', 'identificado', 'identificados', 'identificar', 'idioma', 'idioma autorizacion', 'idioma autorizacion escrita', 'ido', 'iglesia', 'igualdad', 'igualdad internacionalizacion', 'igualdad internacionalizacion investigacion', 'igualmente', 'imagen', 'imagenes', 'impacto', 'impacto economico', 'impacto socioeconomico', 'impacto socioeconomico divulgacion', 'impecable', 'impecable necesita', 'impecable necesita equipo', 'impide', 'implantacion', 'implementacion', 'implica', 'implicados', 'imponer', 'importa', 'importancia', 'importante', 'importantes', 'imposible', 'imprescindible', 'impresion', 'impuesto', 'impuestos', 'impulsado', 'impulsar', 'impulso', 'impuso', 'incendios', 'incentivos', 'incertidumbre', 'incide', 'incidencia', 'incluida', 'incluido', 'incluidos', 'incluidos doce', 'incluidos doce dibujos', 'incluir', 'inclusion', 'incluye', 'incluyen', 'incluyendo', 'incorporacion', 'increible', 'incrementar', 'incremento', 'independiente', 'independientes', 'india', 'indica', 'indica tasa', 'indica tasa global', 'indicador', 'indican', 'indicar', 'indice', 'indicios', 'indio', 'individual', 'individuales', 'individuo', 'individuos', 'industria', 'industria cinematografica', 'industrial', 'industriales', 'industrias', 'inesperado', 'inestabilidad', 'infancia', 'infantil', 'infantiles', 'infeccion', 'infecciones', 'infecciones casos', 'infecciones casos graves', 'infectadas', 'infectadas patogenos', 'infectadas patogenos capaces', 'infectado', 'inferior', 'inflacion', 'inflamacion', 'influencia', 'influencia artefactos', 'influencia artefactos culturales', 'influye', 'informa', 'informacion', 'informacion deportiva', 'informacion deportiva derechos', 'informacion mapa', 'informacion mapa web', 'informado', 'informar', 'informaron', 'informatica', 'informatico', 'informe', 'informes', 'infracciones', 'infracciones evitando', 'infracciones evitando ordenes', 'infraestructura', 'infraestructuras', 'ingenieria', 'ingeniero', 'ingenieros', 'ingles', 'inglesa', 'ingredientes', 'ingreso', 'ingreso reingreso', 'ingreso reingreso favor', 'ingresos', 'ingresos bajos', 'inicia', 'inicia sesion', 'inicia sesion es', 'inicia sesion usuario', 'inicial', 'iniciales', 'iniciales fase', 'iniciales fase ensayo', 'inicialmente', 'iniciar', 'iniciar sesion', 'iniciar sesion comunicacion', 'iniciativa', 'iniciativa analizar', 'iniciativa analizar interaccion', 'iniciativas', 'inicio', 'inicios', 'inmediata', 'inmediatamente', 'inmediato', 'inmunidad', 'inmunizacion', 'innovacion', 'insectos', 'insiste', 'inspiracion', 'instalacion', 'instalaciones', 'instalado', 'instancia', 'institucion', 'institucional', 'instituciones', 'instituto', 'instituto centros', 'instituto centros internacionales', 'instituto ciencias', 'instituto corazon', 'instituto desarrollado', 'instituto desarrollado salud', 'instituto fisica', 'instituto investigacion', 'instituto investigacion fabricado', 'instituto nacional', 'instituto salud', 'institutos', 'instrumento', 'instrumentos', 'integra', 'integracion', 'integrado', 'integral', 'integran', 'integrantes', 'integrar', 'integridad', 'intelectual', 'inteligencia', 'inteligencia artificial', 'inteligente', 'intencion', 'intensa', 'intensidad', 'intenso', 'intentos', 'intentos equipo', 'intentos estudio', 'interaccion', 'interaccion galaxia', 'interaccion galaxia cercana', 'interaccion luz', 'interaccion luz materia', 'interacciones', 'intercambio', 'interes', 'interesados', 'interesante', 'interesantes', 'intereses', 'interior', 'interna', 'internacional', 'internacional cientificos', 'internacional cientificos liderado', 'internacionales', 'internacionales mecanismo', 'internacionales mecanismo explica', 'internacionalizacion', 'internacionalizacion investigacion', 'internet', 'interno', 'interpretacion', 'interpretar', 'intervencion', 'intervenciones', 'intervenciones reducir', 'intervenciones reducir judiciales', 'intervenir', 'intestino', 'introducir', 'inversion', 'inversion directa', 'inversion directa espera', 'inversiones', 'inversionistas', 'inversores', 'invertir', 'investiga', 'investigacion', 'investigacion anunciado', 'investigacion anunciado proyectos', 'investigacion basica', 'investigacion biomedica', 'investigacion biomedica red', 'investigacion cientifica', 'investigacion espanoles', 'investigacion espanoles hospital', 'investigacion fabricado', 'investigacion fabricado dispositivo', 'investigacion innovacion', 'investigacion realizada', 'investigacion sistemas', 'investigacion sistemas universidad', 'investigacion tecnologia', 'investigacion universidad', 'investigaciones', 'investigaciones cientificas', 'investigador', 'investigador principal', 'investigador universidad', 'investigadora', 'investigadores', 'investigadores alemanes', 'investigadores alemanes proceso', 'investigadores centro', 'investigadores espanoles', 'investigadores instituto', 'investigadores instituto centros', 'investigadores instituto desarrollado', 'investigadores universidad', 'investigadores universidad desarrollado', 'investigadores universidad logrado', 'investigadores universidades', 'investigar', 'invierno', 'invisible', 'involucrados', 'inyeccion', 'iones', 'ira', 'iran', 'isla', 'italiano', 'izquierda', 'jamas', 'japonesa', 'jefa', 'jefe', 'jefe servicio', 'jornada', 'jornadas', 'joven', 'jovenes', 'judiciales', 'judiciales infracciones', 'judiciales infracciones evitando', 'juega', 'juegan', 'juego', 'juegos', 'jueves', 'juez', 'jugado', 'jugador', 'jugadoras', 'jugadores', 'jugando', 'jugar', 'jugar descarga', 'jugar descarga movil', 'jugara', 'jugo', 'juicio', 'juicio ciencia', 'juicio ciencia espanola', 'julio', 'junio', 'junior', 'juntas', 'juntos', 'jurado', 'justicia', 'justo', 'kilometros', 'kilos', 'kilos material', 'kilos material previsto', 'labor', 'laboral', 'laborales', 'laboratorio', 'laboratorio presentan', 'laboratorio presentan recorrido', 'laboratorios', 'lagrimas', 'lamentablemente', 'lanzado', 'lanzamiento', 'lanzamiento previsto', 'lanzamiento previsto metodo', 'lanzar', 'lanzo', 'larga', 'largas', 'largos', 'largos resulta', 'largos resulta necesario', 'lectura', 'lee', 'leer', 'legado', 'legal', 'legal politica', 'legal politica publicidad', 'legales', 'leido', 'leido portada', 'leido portada iniciar', 'lengua', 'lenguaje', 'lenguas', 'lentamente', 'lento', 'leon', 'lesion', 'lesiones', 'letra', 'levantar', 'levanto', 'levanto dudas', 'levanto dudas agosto', 'leve', 'ley', 'leyenda', 'leyes', 'libertad', 'libre', 'libres', 'libro', 'libros', 'licencia', 'licencia estudio', 'lider', 'lidera', 'liderado', 'liderado investigadores', 'liderado universidad', 'liderado universidad pais', 'liderazgo', 'lideres', 'liga', 'liga campeones', 'ligas', 'ligeramente', 'limitacion', 'limitaciones', 'limitada', 'limitar', 'limite', 'limites', 'limpieza', 'linea', 'lineas', 'liquidez', 'liquido', 'liquidos', 'lista', 'listas', 'listo', 'literatura', 'llama', 'llamada', 'llamadas', 'llamado', 'llamados', 'llamamos', 'llaman', 'llamar', 'llega', 'llegada', 'llegada investigadores', 'llegada investigadores alemanes', 'llegado', 'llegan', 'llegando', 'llegar', 'llegara', 'llegaron', 'llegue', 'llegue millones', 'llegue millones personas', 'llena', 'lleno', 'llevado', 'llevado cabo', 'llevamos', 'llevan', 'llevara', 'llevara minuto', 'llevara minuto gracias', 'llevo', 'lluvia', 'local', 'locales', 'localizado', 'logistica', 'logra', 'logrado', 'logrado compuesto', 'logrado compuesto hidrogeno', 'lograr', 'lograron', 'logro', 'logros', 'longitud', 'lucha', 'lucha cambio', 'lucha cambio expectativas', 'luchar', 'lugares', 'lujo', 'luna', 'lunes', 'lunes juicio', 'lunes juicio ciencia', 'luz', 'luz materia', 'luz materia estudio', 'luz propiedad', 'luz propiedad investigadores', 'madre', 'madre modificadas', 'madre modificadas capaces', 'madres', 'maestro', 'maestros', 'magnetica', 'magnitud', 'mala', 'malas', 'malestar', 'malos', 'mama', 'manana', 'mando', 'manejo', 'maneras', 'manifestaciones', 'manifiesta', 'manifiesto', 'maniobra', 'mano', 'manos', 'mantener', 'mantenerse', 'mantenido', 'manteniendo', 'mantenimiento', 'mantiene', 'mantienen', 'mapa', 'mapa web', 'mapa web aviso', 'mapas', 'maquina', 'maquinaria', 'maquinas', 'mar', 'marca', 'marca registrada', 'marca registrada union', 'marca temas', 'marca temas interes', 'marcada', 'marcado', 'marcador', 'marcar', 'marcas', 'marcha', 'marco', 'margen', 'marinos', 'marketing', 'martes', 'martes exito', 'martes exito sonda', 'marzo', 'masa', 'masa sol', 'masas', 'masculina', 'masculino', 'masiva', 'masivo', 'masivos', 'matematicas', 'matematicas aspectos', 'matematicos', 'materia', 'materia estructura', 'materia estructura repite', 'materia estudio', 'materia estudio influencia', 'materia oscura', 'materia oscura galaxia', 'material', 'material genetico', 'material previsto', 'material previsto mes', 'materiales', 'materiales conducir', 'materiales conducir corriente', 'matriz', 'matriz facilita', 'matriz facilita llegada', 'maxima', 'maximo', 'maximos', 'maximos observo', 'maximos observo reduccion', 'mayo', 'mayores', 'mayores anos', 'mayores mundo', 'mayores mundo indica', 'mayoria', 'mayoria casos', 'mecanica', 'mecanismo', 'mecanismo explica', 'mecanismo explica provocadas', 'mecanismos', 'medalla', 'medalla diario', 'medalla diario laboratorio', 'media', 'media vario', 'media vario dosis', 'mediados', 'medianas', 'medianas empresas', 'medica', 'medicamentos', 'medicina', 'medicion', 'medico', 'medico agencia', 'medico agencia ofrece', 'medico escasez', 'medico escasez materia', 'medico estudio', 'medico investigadores', 'medico referencia', 'medico resultados', 'medico tecnologia', 'medico tecnologia centro', 'medicos', 'medida', 'medidas', 'medidas prevencion', 'medidas seguridad', 'medido', 'medioambiental', 'medios', 'medios comunicacion', 'medios sociales', 'medir', 'medir forma', 'medir forma luz', 'mejora', 'mejorado', 'mejoran', 'mejorando', 'mejorar', 'mejorar calidad', 'mejoras', 'mejores', 'memoria', 'menor', 'menores', 'menores anos', 'menores edad', 'mensaje', 'mensajes', 'mental', 'mente', 'mente humana', 'mente humana experimento', 'mercado', 'mercado laboral', 'mercados', 'mercurio', 'mes', 'mes recibir', 'mes recibir semana', 'mesa', 'meses', 'meta', 'metabolismo', 'metal', 'metales', 'metodo', 'metodo desarrollado', 'metodo desarrollado investigadores', 'metodos', 'metro', 'metro paciente', 'metro paciente sugiere', 'metros', 'mexicana', 'mexicano', 'mexicanos', 'mexico', 'mexico deportes', 'mexico deportes marca', 'mezcla', 'micras', 'microorganismos', 'mide', 'miedo', 'miembro', 'miembros', 'miembros grupo', 'miembros grupo investigacion', 'miercoles', 'migracion', 'mil', 'mil millones', 'mil millones dolares', 'mil millones pesos', 'mil pesos', 'miles', 'miles millones', 'millon', 'millones', 'millones anos', 'millones dolares', 'millones dosis', 'millones euros', 'millones kilometros', 'millones ninos', 'millones personas', 'millones personas comenzando', 'millones pesos', 'minima', 'minimizar', 'minimo', 'ministerio', 'ministerio ciencia', 'ministerio ciencia innovacion', 'ministra', 'ministro', 'minorias', 'minuto', 'minuto gracias', 'minuto gracias adelantado', 'minutos', 'mirada', 'mirar', 'mision', 'mision europea', 'mision europea cuyo', 'misiones', 'misiones lucha', 'misiones lucha cambio', 'misterio', 'mitad', 'mito', 'mixto', 'modelo', 'modelo negocio', 'modelos', 'modelos estructuras', 'modelos estructuras espectaculares', 'modelos matematicos', 'moderna', 'modificacion', 'modificadas', 'modificadas capaces', 'modificadas capaces reaccionar', 'modificar', 'molecula', 'molecular', 'moleculares', 'moleculas', 'momentos', 'momia', 'monetaria', 'montana', 'monto', 'morir', 'mostrado', 'mostrar', 'mostraron', 'mostro', 'motivo', 'motivos', 'motor', 'motores', 'moverse', 'movil', 'movil informacion', 'movil informacion mapa', 'movil mapa', 'movil mapa web', 'moviles', 'movilidad', 'movimiento', 'movimiento ecologista', 'movimiento ecologista presidente', 'movimientos', 'muchisimo', 'muerte', 'muertes', 'muerto', 'muertos', 'muestra', 'muestra proteina', 'muestra proteina procesos', 'muestran', 'muestras', 'muestras tierra', 'muestras tierra conseguirlo', 'mujer', 'mujeres', 'mujeres asciende', 'mujeres asciende significativamente', 'mujeres ciencia', 'mujeres hombres', 'multiples', 'multitud', 'mundial', 'mundial salud', 'mundiales', 'mundo', 'mundo indica', 'mundo indica tasa', 'municipios', 'murio', 'musculos', 'museo', 'musica', 'musical', 'mutacion', 'mutaciones', 'nacer', 'nacido', 'nacimiento', 'nacio', 'nacional', 'nacional investigacion', 'nacional salud', 'nacionales', 'naciones', 'nariz', 'natural', 'naturales', 'naturaleza', 'navarro', 'nave', 'nave espacial', 'navegacion', 'necesaria', 'necesariamente', 'necesarias', 'necesario', 'necesario desarrollo', 'necesario desarrollo herramientas', 'necesarios', 'necesidad', 'necesidades', 'necesita', 'necesita equipo', 'necesita equipo es', 'necesitaban', 'necesitaban temperaturas', 'necesitaban temperaturas bajas', 'necesitamos', 'necesitan', 'necesitar', 'negativo', 'negativos', 'negociaciones', 'negocio', 'negocios', 'negra', 'negro', 'negros', 'nervioso', 'neuronal', 'neuronas', 'neutrones', 'nina', 'ninas', 'nino', 'ninos', 'ninos jovenes', 'ninos ninas', 'nivel', 'nivel global', 'nivel mar', 'nivel mundial', 'nivel nacional', 'niveles', 'noche', 'nocturna', 'nocturno', 'nombre', 'nombres', 'norma', 'normal', 'normales', 'normalidad', 'normalmente', 'normas', 'normativa', 'norte', 'noruega', 'nota', 'notable', 'noticia', 'noticias', 'noticias falsas', 'noticias mexico', 'noticias mexico deportes', 'noticias relacionadas', 'noticias relacionadas politica', 'noviembre', 'nubes', 'nuclear', 'nucleo', 'nucleos', 'nuevamente', 'nueve', 'numero', 'numero casos', 'numero personas', 'numeros', 'numerosas', 'numerosos', 'objetivo', 'objetivos', 'objeto', 'objetos', 'obliga', 'obra', 'obra padre', 'obras', 'observa', 'observacion', 'observacion tierra', 'observaciones', 'observada', 'observados', 'observando', 'observar', 'observo', 'observo reduccion', 'observo reduccion infecciones', 'obstaculo', 'obstaculos', 'obtencion', 'obtener', 'obtener informacion', 'obtenidas', 'obtenido', 'obtenido modelos', 'obtenido modelos estructuras', 'obtenidos', 'obtiene', 'obtuvieron', 'obtuvo', 'obviamente', 'ocasion', 'ocasiones', 'occidental', 'oceanos', 'ocio', 'octavos', 'octubre', 'ocupa', 'ocupan', 'ocurre', 'ocurren', 'ocurren fluctuaciones', 'ocurren fluctuaciones sistemas', 'ocurrido', 'ocurrido error', 'ocurrido error favor', 'ocurriendo', 'ocurrio', 'odio', 'oferta', 'ofertas', 'oficial', 'oficiales', 'oficina', 'oficinas', 'ofrece', 'ofrece servicios', 'ofrece servicios dependiendo', 'ofrecen', 'ofrecer', 'ofrecera', 'ofreciendo', 'ofrecio', 'ojala', 'ojo', 'ojos', 'ola', 'oleada', 'olor', 'olor pescado', 'olvidar', 'once', 'onda', 'ondas', 'opcion', 'opciones', 'opera', 'operacion', 'operaciones', 'operan', 'operar', 'opina', 'opinion', 'opiniones', 'oportunidad', 'oportunidades', 'opticas', 'optimismo', 'orales', 'orbita', 'orden', 'ordenador', 'ordenadores', 'ordenes', 'ordenes arresto', 'ordenes arresto anos', 'organicos', 'organismo', 'organismos', 'organizacion', 'organizacion internacional', 'organizacion mundial', 'organizacion mundial salud', 'organizacion naciones', 'organizaciones', 'organo', 'organos', 'orgullo', 'orientacion', 'oriente', 'origen', 'origenes', 'original', 'oro', 'oscura', 'oscura galaxia', 'oscura galaxia investigadores', 'oscuro', 'otono', 'otorga', 'oxidacion', 'oxigeno', 'paciente', 'paciente sugiere', 'paciente sugiere transmision', 'pacientes', 'pacientes hospital', 'pacientes hospital centros', 'pacientes hospitalizados', 'pacientes hospitalizados pais', 'pacifico', 'pacto', 'padecen', 'padre', 'padres', 'pagar', 'pagina', 'pagina web', 'paginas', 'pago', 'pagos', 'pais', 'pais desarrollo', 'pais desarrollo sindrome', 'pais recoge', 'pais recoge muestras', 'pais vasco', 'pais vasco naturaleza', 'paises', 'paises bajos', 'paises europeos', 'paises ingresos', 'paises ingresos bajos', 'palabra', 'palabras', 'paneles', 'panorama', 'pantalla', 'papa', 'papel', 'papel clave', 'paquete', 'par', 'parado', 'parametros', 'parametros medir', 'parametros medir forma', 'parar', 'parcial', 'parcial traduccion', 'parcial traduccion idioma', 'parcialmente', 'parecen', 'parecer', 'parecido', 'paredes', 'pareja', 'paro', 'parque', 'partes', 'partes mundo', 'participa', 'participacion', 'participado', 'participado estudio', 'participan', 'participantes', 'participar', 'participaron', 'participo', 'particular', 'particulares', 'particularmente', 'particulas', 'partida', 'partido', 'partido ida', 'partidos', 'parto', 'pasa', 'pasajeros', 'pasan', 'pasando', 'pasar', 'pasara', 'pase', 'pasion', 'paso', 'paso ve', 'paso ve confirma', 'pasos', 'patogenos', 'patogenos capaces', 'patogenos capaces crear', 'patologia', 'patrimonio', 'patron', 'patrones', 'pausa', 'paz', 'peatones', 'pecho', 'pedido', 'pedir', 'pelea', 'pelicula', 'peliculas', 'peligro', 'peligroso', 'pelo', 'pelota', 'pena', 'penalti', 'pendiente', 'pendientes', 'peninsula', 'pensaba', 'pensado', 'pensamiento', 'pensando', 'pensar', 'peores', 'pequena', 'pequenas', 'pequenas medianas', 'pequenas medianas empresas', 'pequeno', 'pequenos', 'percepcion', 'percepcion riesgo', 'perder', 'perdida', 'perdidas', 'perdidas energia', 'perdidas energia investigadores', 'perdido', 'perdiendo', 'perdieron', 'perdio', 'perfectamente', 'perfecto', 'perfil', 'perfil selecciona', 'perfil selecciona fondo', 'perfil selecciona investigadores', 'perfil selecciona redaccion', 'periodista', 'periodistas', 'periodo', 'permanece', 'permanecer', 'permanecer largos', 'permanecer largos resulta', 'permanente', 'permisos', 'permita', 'permitan', 'permite', 'permite generar', 'permiten', 'permitida', 'permitido', 'permitido disenar', 'permitido disenar ciudad', 'permitiendo', 'permitieron', 'permitio', 'permitir', 'permitira', 'permitiran', 'permitiria', 'persona', 'personaje', 'personajes', 'personal', 'personal investigador', 'personal sanitario', 'personales', 'personalidad', 'personalizada', 'personas', 'personas anos', 'personas comenzando', 'personas comenzando distribucion', 'personas dispositivo', 'personas dispositivo comenzado', 'personas infectadas', 'personas mayores', 'personas mundo', 'personas sanas', 'personas sintomas', 'personas viven', 'personas vulnerables', 'perspectiva', 'perspectivas', 'pertenece', 'pertenecientes', 'pesados', 'pescado', 'peso', 'pesos', 'pico', 'pide', 'piden', 'pidio', 'pie', 'piedra', 'piel', 'piensa', 'piensan', 'pierde', 'pierna', 'piernas', 'piezas', 'piezas incluidos', 'piezas incluidos doce', 'pila', 'pilas', 'piloto', 'piloto realizada', 'piloto realizada habitacion', 'pilotos', 'pintura', 'pionero', 'pista', 'pistas', 'pivot', 'plan', 'planes', 'planeta', 'planeta rojo', 'planetas', 'planetas aplicado', 'planetas aplicado ensayo', 'planificacion', 'plano', 'planta', 'plantas', 'plantea', 'planteado', 'plantean', 'plantear', 'plantearon', 'plantilla', 'plastico', 'plasticos', 'plata', 'plataforma', 'playoffs', 'plaza', 'plazo', 'plena', 'pleno', 'poblacion', 'poblacion espanola', 'poblacion mundial', 'poblaciones', 'pobres', 'pobreza', 'pobreza extrema', 'podamos', 'poderosa', 'podia', 'podian', 'podido', 'podio', 'podremos', 'podriamos', 'polemica', 'policia', 'politica', 'politica preferencias', 'politica preferencias division', 'politica publicidad', 'politica publicidad politica', 'politicas', 'politico', 'politicos', 'polvo', 'pone', 'ponen', 'ponerse', 'poniendo', 'popular', 'porcentaje', 'porcentaje hombres', 'porcentaje hombres mujeres', 'portada', 'portada iniciar', 'portada iniciar sesion', 'portugues', 'posibilidad', 'posibilidades', 'posibles', 'posicion', 'posiciones', 'positiva', 'positivo', 'positivo colocada', 'positivo colocada metro', 'positivos', 'posterior', 'posteriores', 'posteriormente', 'potencia', 'potencial', 'potenciales', 'potencialmente', 'potente', 'potentes', 'practica', 'practicamente', 'practicas', 'precedentes', 'precio', 'precios', 'precisa', 'precisamente', 'precision', 'preciso', 'prediccion', 'predicciones', 'preferencia', 'preferencias', 'preferencias breves', 'preferencias breves preguntas', 'preferencias division', 'preferencias division futbol', 'pregunta', 'preguntas', 'preliminares', 'premio', 'premio fisica', 'premios', 'prensa', 'preocupa', 'preocupacion', 'preocupaciones', 'preparacion', 'preparado', 'presencia', 'presencia superficies', 'presencia superficies tocado', 'presenta', 'presentacion', 'presentado', 'presentan', 'presentan analisis', 'presentan recorrido', 'presentan recorrido vida', 'presentar', 'presente', 'presentes', 'presento', 'preservar', 'presidencia', 'presidenta', 'presidente', 'presidente principales', 'presidente principales misiones', 'presion', 'presiones', 'presiones avance', 'presiones avance sistemas', 'prestaciones', 'prestamos', 'presupuesto', 'pretende', 'pretende convertirse', 'pretende convertirse tercer', 'preve', 'prevencion', 'prevenir', 'previa', 'previamente', 'previas', 'previo', 'previos', 'prevision', 'prevista', 'previsto', 'previsto mes', 'previsto mes recibir', 'previsto metodo', 'previsto metodo desarrollado', 'primavera', 'primeras', 'primeras etapas', 'principal', 'principal estudio', 'principales', 'principales misiones', 'principales misiones lucha', 'principio', 'principios', 'prioridad', 'prioridades', 'privada', 'privado', 'privados', 'probabilidad', 'probabilidades', 'probable', 'probablemente', 'probar', 'probar pacientes', 'probar pacientes hospital', 'problema', 'problemas', 'problemas cientificos', 'problemas cientificos excepcionalmente', 'problemas salud', 'proceden', 'procedente', 'procedentes', 'procedimiento', 'proceso', 'proceso usando', 'proceso usando resultado', 'procesos', 'procesos endurecimiento', 'procesos endurecimiento arterias', 'produccion', 'producciones', 'produce', 'producen', 'producida', 'producido', 'producidos', 'producir', 'productividad', 'productivo', 'producto', 'productor', 'productora', 'productores', 'productos', 'produjeron', 'produjo', 'profesion', 'profesional', 'profesionales', 'profesionales impacto', 'profesionales impacto socioeconomico', 'profesiones', 'profesor', 'profesor universidad', 'profesores', 'profunda', 'profundamente', 'profundas', 'profundidad', 'profundo', 'programa', 'programa sombras', 'programacion', 'programas', 'progresiva', 'progreso', 'promedio', 'promocion', 'promover', 'pronostico', 'pronosticos', 'propagacion', 'propiedad', 'propiedad investigadores', 'propiedad investigadores instituto', 'propiedades', 'propone', 'proporcion', 'proporciona', 'proporcionan', 'proporcionar', 'proposito', 'propuesta', 'propuestas', 'propuesto', 'propuso', 'protagonista', 'proteccion', 'proteccion social', 'protector', 'protege', 'proteger', 'proteina', 'proteina procesos', 'proteina procesos endurecimiento', 'protocolo', 'proveedores', 'proviene', 'provincia', 'provincias', 'provoca', 'provocada', 'provocadas', 'provocadas interaccion', 'provocadas interaccion galaxia', 'provocado', 'provocan', 'provocar', 'provoco', 'proxima', 'proxima temporada', 'proximas', 'proyeccion', 'proyecciones', 'proyecto', 'proyecto centros', 'proyecto centros investigacion', 'proyecto europeo', 'proyectos', 'proyectos ganadores', 'proyectos ganadores ayudas', 'prueba', 'prueba piloto', 'prueba piloto realizada', 'pruebas', 'psicologica', 'psicologico', 'publica', 'publica revista', 'publicacion', 'publicacion compartida', 'publicaciones', 'publicada', 'publicado', 'publicado muestra', 'publicado muestra proteina', 'publicado revista', 'publicado tasa', 'publicado tasa porcentaje', 'publicado web', 'publicado web agencia', 'publicados', 'publicados revista', 'publicar', 'publicas', 'publicidad', 'publicidad politica', 'publicidad politica preferencias', 'publico', 'publicos', 'pudiera', 'pudieran', 'pudieron', 'pueblo', 'puedan', 'puedes', 'puedes facilitar', 'puedes facilitar fecha', 'puerta', 'puertas', 'puerto', 'puesta', 'puesto', 'puestos', 'pulmon', 'pulmones', 'punta', 'punto', 'punto vista', 'puntos', 'puso', 'pymes', 'queda', 'quedado', 'quedan', 'quedar', 'quedaron', 'quedarse', 'queria', 'queriamos', 'querido', 'quiera', 'quieran', 'quieren', 'quiero', 'quiero volver', 'quiero volver jugar', 'quimica', 'quimicas', 'quimico', 'quimicos', 'quimicos mision', 'quimicos mision europea', 'quincena', 'quinta', 'quinto', 'quirurgica', 'quiso', 'radiacion', 'radica', 'radio', 'raices', 'rango', 'rapida', 'rapidamente', 'rapidas', 'rapido', 'rapidos', 'rara', 'raro', 'raros', 'rasgos', 'rastrear', 'rayos', 'rayos gamma', 'raza', 'razon', 'razones', 'reaccion', 'reaccionar', 'reaccionar frente', 'reaccionar frente senal', 'reacciones', 'reactivacion', 'real', 'real sociedad', 'real sociedad espanola', 'reales', 'realidad', 'realista', 'realiza', 'realizada', 'realizada habitacion', 'realizada habitacion hospital', 'realizadas', 'realizan', 'realizara', 'realizaron', 'realmente', 'reapertura', 'rebano', 'recalco', 'receptor', 'receptores', 'rechazo', 'reciban', 'recibe', 'reciben', 'recibido', 'recibieron', 'recibio', 'recibir', 'recibir semana', 'recibir semana boletin', 'reciclaje', 'recien', 'reciente', 'recientemente', 'recientes', 'recoge', 'recoge muestras', 'recoge muestras tierra', 'recogen', 'recoger', 'recogida', 'recomendacion', 'recomendaciones', 'reconoce', 'reconocen', 'reconocer', 'reconocido', 'reconocimiento', 'reconocio', 'reconstruir', 'record', 'recordar', 'recordo', 'recorrido', 'recorrido vida', 'recorrido vida obra', 'recortes', 'recuerda', 'recuerda revisar', 'recuerdan', 'recuerdo', 'recuperacion', 'recuperacion vision', 'recuperacion vision celulas', 'recuperado', 'recuperar', 'recuperarse', 'recurrir', 'recurso', 'recursos', 'red', 'red social', 'redaccion', 'redaccion verlo', 'redaccion verlo publicado', 'redes', 'redes sociales', 'redes sociales derechos', 'reduccion', 'reduccion infecciones', 'reduccion infecciones casos', 'reduce', 'reducido', 'reduciendo', 'reducir', 'reducir judiciales', 'reducir judiciales infracciones', 'redujo', 'referencia', 'referencia estudio', 'referencia redaccion', 'referencia redaccion verlo', 'referencias', 'referente', 'refiere', 'refirio', 'refleja', 'reflejan', 'reflexion', 'reforma', 'reforzar', 'regimen', 'region', 'regional', 'regionales', 'regiones', 'registra', 'registrada', 'registrada union', 'registrada union aviso', 'registrado', 'registrados', 'registrar', 'registraron', 'registro', 'registro mayores', 'registro mayores mundo', 'registros', 'regla', 'reglas', 'regresar', 'regreso', 'regreso kilos', 'regreso kilos material', 'regulacion', 'regulador', 'reguladores', 'regular', 'rehabilitacion', 'reina', 'reina ceremonia', 'reina ceremonia favor', 'reingreso', 'reingreso favor', 'reingreso favor salud', 'reino', 'reino unido', 'relacion', 'relaciona', 'relacionadas', 'relacionadas politica', 'relacionado', 'relacionados', 'relaciones', 'relativamente', 'relatividad', 'relato', 'relevancia', 'relevante', 'reloj', 'remate', 'rendimiento', 'renovables', 'renovacion', 'renovar', 'renta', 'rentable', 'reparacion', 'repercusiones', 'repetir', 'repite', 'repite estudio', 'repite estudio teorico', 'replica', 'replica terminos', 'replica terminos condiciones', 'reporte', 'representa', 'representacion', 'representan', 'representante', 'representantes', 'representar', 'reproduccion', 'reproduccion parcial', 'reproduccion parcial traduccion', 'republica', 'requerira', 'requiere', 'requieren', 'requisitos', 'resalta', 'rescate', 'rescate emitida', 'rescate emitida celulas', 'reserva', 'reserva federal', 'reservados', 'reservados colombianos', 'reservados colombianos reproduccion', 'reservados expansion', 'resfriado', 'resfriado comun', 'residencia', 'residuos', 'resistencia', 'resistencia perdidas', 'resistencia perdidas energia', 'resolucion', 'resolver', 'resolver problemas', 'resolver problemas cientificos', 'resonancia', 'resonancia magnetica', 'respectivamente', 'respeto', 'respirar', 'respiratoria', 'respiratorias', 'respiratorios', 'responde', 'responder', 'responder comentario', 'responsabilidad', 'responsable', 'responsables', 'respuesta', 'respuestas', 'restaurante', 'restaurantes', 'resto', 'restos', 'resulta', 'resulta necesario', 'resulta necesario desarrollo', 'resultado', 'resultado aportar', 'resultado aportar ideas', 'resultados', 'resultados estudio', 'resultados iniciales', 'resultados iniciales fase', 'resultados investigacion', 'resultados muestran', 'resultados obtenidos', 'resultados publicados', 'resultados publicados revista', 'resultan', 'resultar', 'resulto', 'retina', 'retirar', 'retiro', 'reto', 'retorno', 'retos', 'retraso', 'retroceso', 'reune', 'reunion', 'reunir', 'revelado', 'revelan', 'revelan eficacia', 'revelan eficacia media', 'revelar', 'revelo', 'revisar', 'revision', 'revista', 'revista cientifica', 'revistas', 'revolucion', 'rey', 'rica', 'rico', 'ricos', 'riesgo', 'riesgo contagio', 'riesgos', 'rio', 'rios', 'riqueza', 'ritmo', 'rival', 'rivales', 'robots', 'roca', 'rodea', 'rodilla', 'rojas', 'rojo', 'rojos', 'rompe', 'romper', 'ronda', 'rondas', 'ropa', 'rosa', 'rotacion', 'rubio', 'rueda', 'rueda prensa', 'ruido', 'rumbo', 'rumores', 'rurales', 'ruta', 'sabado', 'sabia', 'sabor', 'sacar', 'salario', 'salario minimo', 'salarios', 'salida', 'salidas', 'salidas profesionales', 'salidas profesionales impacto', 'salido', 'salio', 'salir', 'salto', 'salud', 'salud destinado', 'salud destinado personas', 'salud mental', 'salud publica', 'salud tipo', 'salud tipo consejos', 'saludable', 'sana', 'sanas', 'sangre', 'sanitaria', 'sanitarias', 'sanitario', 'sanitarios', 'sano', 'sanos', 'santa', 'sarampion', 'satelite', 'satelites', 'satisfaccion', 'saturacion', 'seco', 'secretaria', 'secretario', 'sector', 'sector privado', 'sectores', 'secuencia', 'secundaria', 'sede', 'segmentos', 'seguida', 'seguido', 'seguidores', 'seguimiento', 'seguimos', 'seguir', 'seguira', 'segundos', 'segura', 'seguramente', 'seguridad', 'seguro', 'seguros', 'seleccion', 'selecciona', 'selecciona fondo', 'selecciona fondo inversion', 'selecciona investigadores', 'selecciona redaccion', 'selecciona redaccion verlo', 'selecciones', 'selectiva', 'semana', 'semana boletin', 'semana boletin contenidos', 'semanas', 'semestre', 'semifinal', 'semifinales', 'semifinales torneo', 'senal', 'senal rescate', 'senal rescate emitida', 'senala', 'senala investigador', 'senalado', 'senalan', 'senalar', 'senales', 'sencilla', 'sencillo', 'sensacion', 'sensaciones', 'sensibilidad', 'sensibles', 'sensor', 'sensores', 'sentido', 'sentimientos', 'sentir', 'separacion', 'separar', 'septiembre', 'septimo', 'seres', 'seres humanos', 'serian', 'serie', 'servicio', 'servicio medico', 'servicio medico agencia', 'servicio medico escasez', 'servicio medico estudio', 'servicio medico investigadores', 'servicio medico referencia', 'servicio medico resultados', 'servicio medico tecnologia', 'servicios', 'servicios dependiendo', 'servicios dependiendo perfil', 'servicios financieros', 'servido', 'servir', 'sesion', 'sesion comunicacion', 'sesion es', 'sesion es usuario', 'sesion usuario', 'sesion usuario quiero', 'sesiones', 'severa', 'sexo', 'sexto', 'sexual', 'siente', 'siento', 'siga', 'siglas', 'siglas ingles', 'siglo', 'siglos', 'significa', 'significado', 'significativa', 'significativamente', 'significativamente anos', 'significativamente anos situandose', 'significativas', 'significativo', 'signos', 'siguen', 'siguiendo', 'siguientes', 'silencio', 'similar', 'similares', 'simple', 'simplemente', 'simultaneamente', 'sindrome', 'sindrome registro', 'sindrome registro mayores', 'sintesis', 'sintoma', 'sintomas', 'siquiera', 'sirve', 'sirven', 'sistema', 'sistema nervioso', 'sistema solar', 'sistemas', 'sistemas educativos', 'sistemas electricos', 'sistemas electricos eficiencia', 'sistemas particulas', 'sistemas universidad', 'sistemas universidad obtenido', 'sitio', 'sitios', 'sitios grupo', 'situa', 'situacion', 'situacion matematicas', 'situaciones', 'situada', 'situado', 'situandose', 'situandose mayores', 'social', 'sociales', 'sociales derechos', 'sociales derechos reservados', 'sociedad', 'sociedad espanola', 'sociedad espanola fundacion', 'sociedades', 'socio', 'socioeconomico', 'socioeconomico divulgacion', 'socioeconomico divulgacion igualdad', 'socios', 'software', 'sol', 'solar', 'solares', 'soledad', 'solida', 'solidaridad', 'solido', 'solidos', 'solucion', 'soluciones', 'sombra', 'sombras', 'someterse', 'sonda', 'sonda china', 'sonda china pretende', 'sonido', 'sorprendente', 'sorpresa', 'sostenibilidad', 'sostenible', 'sostenibles', 'sostiene', 'sostuvo', 'subir', 'subraya', 'subrayo', 'sucede', 'sucedio', 'sueldo', 'suele', 'suelen', 'suelo', 'sueno', 'suenos', 'suerte', 'suficiente', 'suficientemente', 'suficientes', 'sufre', 'sufren', 'sufrido', 'sufrio', 'sufrir', 'sugiere', 'sugiere transmision', 'sugiere transmision aerosoles', 'sugieren', 'suiza', 'suma', 'sumado', 'suman', 'suministro', 'supera', 'superado', 'superan', 'superar', 'superconductividad', 'superconductividad capacidad', 'superconductividad capacidad materiales', 'superficie', 'superficies', 'superficies tocado', 'superficies tocado prueba', 'superior', 'superior investigaciones', 'superior investigaciones cientificas', 'superiores', 'supero', 'supervivencia', 'supondria', 'supondria ventaja', 'supone', 'suponen', 'suponer', 'sur', 'sur telefono', 'sur telefono correo', 'surge', 'susceptibles', 'suscripcion', 'suscripcion recuerda', 'suscripcion recuerda revisar', 'suspension', 'sustancia', 'sustancias', 'sustituir', 'tabaco', 'tabla', 'talento', 'tamano', 'tanta', 'tantas', 'tantos', 'tarea', 'tareas', 'tarjeta', 'tasa', 'tasa global', 'tasa global ingreso', 'tasa interes', 'tasa porcentaje', 'tasa porcentaje hombres', 'tasas', 'tecnica', 'tecnicas', 'tecnico', 'tecnicos', 'tecnologia', 'tecnologia centro', 'tecnologia centro anos', 'tecnologia permite', 'tecnologias', 'tecnologias informacion', 'tecnologica', 'tecnologicas', 'tecnologico', 'tecnologicos', 'tejido', 'tejidos', 'telecomunicaciones', 'telefono', 'telefono correo', 'telefonos', 'telescopios', 'television', 'tema', 'temas', 'temas interes', 'temas tenis', 'temas tenis noticias', 'temas tenis politica', 'temperatura', 'temperatura humedad', 'temperaturas', 'temperaturas bajas', 'temperaturas bajas alcanzar', 'temperaturas supondria', 'temperaturas supondria ventaja', 'temporada', 'temporada regular', 'temporadas', 'temporal', 'temprana', 'tempranas', 'tendencia', 'tendremos', 'tendria', 'tendrian', 'tengamos', 'tengan', 'teniamos', 'tenian', 'teniendo', 'tenis', 'tenis noticias', 'tenis noticias relacionadas', 'tenis politica', 'tension', 'teoria', 'teoria evolucion', 'teorica', 'teorico', 'teorico basado', 'teorico basado fase', 'teoricos', 'terapeutico', 'terapia', 'tercer', 'tercer pais', 'tercer pais recoge', 'tercer trimestre', 'tercer trimestre ano', 'tercero', 'terceros', 'tercio', 'termica', 'termicas', 'termina', 'terminar', 'termino', 'terminos', 'terminos condiciones', 'terreno', 'terrestre', 'territorio', 'territorios', 'tesis', 'tesoro', 'test', 'texto', 'tiempos', 'tienda', 'tiendas', 'tienden', 'tienes', 'tierra', 'tierra conseguirlo', 'tierra conseguirlo viaje', 'tipo', 'tipo consejos', 'tipo consejos acude', 'tipos', 'tipos celulas', 'titular', 'titulo', 'titulos', 'tocado', 'tocado prueba', 'tocado prueba piloto', 'toma', 'toma decisiones', 'tomada', 'tomadas', 'tomado', 'toman', 'tomando', 'tomar', 'tomar decisiones', 'tomar medidas', 'tomara', 'tomen', 'tomo', 'toneladas', 'tope', 'tormenta', 'torneo', 'torneos', 'torre', 'tos', 'totalidad', 'totalmente', 'trabajado', 'trabajador', 'trabajadores', 'trabajando', 'trabajo', 'trabajos', 'tradicional', 'tradicionales', 'traduccion', 'traduccion idioma', 'traduccion idioma autorizacion', 'traer', 'trafico', 'tranquilidad', 'transacciones', 'transferencia', 'transformacion', 'transformar', 'transicion', 'transmision', 'transmision aerosoles', 'transmision virus', 'transmite', 'transmitir', 'transparencia', 'transporte', 'transporte publico', 'tratamiento', 'tratamiento recuperacion', 'tratamiento recuperacion vision', 'tratamientos', 'tratamientos cancer', 'tratamientos cancer redaccion', 'tratan', 'tratando', 'tratar', 'tratarse', 'trato', 'trayectoria', 'tren', 'tribunal', 'tributaria', 'trimestre', 'trimestre ano', 'triple', 'tristeza', 'triunfo', 'tumores', 'turismo', 'tuviera', 'tuvieron', 'tuvimos', 'ultravioleta', 'une', 'unica', 'unicamente', 'unico', 'unicos', 'unidad', 'unidad editorial', 'unidad editorial informacion', 'unidades', 'unido', 'unidos', 'union', 'union aviso', 'union aviso derecho', 'union europea', 'universal', 'universidad', 'universidad autonoma', 'universidad desarrollado', 'universidad estudio', 'universidad instituto', 'universidad logrado', 'universidad logrado compuesto', 'universidad obtenido', 'universidad obtenido modelos', 'universidad pais', 'universidad pais vasco', 'universidad reino', 'universidad reino unido', 'universidad universidad', 'universidad valencia', 'universidades', 'universidades descubierto', 'universidades descubierto forma', 'universitario', 'universitarios', 'universo', 'urbana', 'urbano', 'urgencia', 'urgente', 'urgentes', 'usado', 'usados', 'usando', 'usando resultado', 'usando resultado aportar', 'usuario', 'usuario diez', 'usuario diez intentos', 'usuario investigadores', 'usuario quiero', 'usuario quiero volver', 'usuarios', 'util', 'utilidad', 'utiliza', 'utilizacion', 'utilizada', 'utilizadas', 'utilizado', 'utilizados', 'utilizan', 'utilizando', 'utilizar', 'utilizaron', 'utilizo', 'vacaciones', 'vacio', 'vacunas', 'vale', 'valencia', 'valioso', 'valoran', 'valorar', 'valores', 'valores maximos', 'valores maximos observo', 'vapor', 'variable', 'variacion', 'variaciones', 'variedad', 'vario', 'vario dosis', 'vario dosis valores', 'vas', 'vasco', 'vasco naturaleza', 've', 've confirma', 've confirma suscripcion', 'vecino', 'vecinos', 'vehiculo', 'vehiculos', 'veia', 'veinte', 'velocidad', 'velocidad ensayos', 'velocidad ensayos humanos', 'vemos', 'ven', 'vencer', 'vender', 'venia', 'venido', 'venir', 'venta', 'ventaja', 'ventajas', 'ventana', 'ventanas', 'ventas', 'veo', 'verano', 'verde', 'verdes', 'veremos', 'verificar', 'verlo', 'verlo publicado', 'verlo publicado web', 'verse', 'version', 'versiones', 'vertical', 'veterano', 'vi', 'via', 'viabilidad', 'viajar', 'viaje', 'viaje regreso', 'viaje regreso kilos', 'viajeros', 'viajes', 'vias', 'vias tratamiento', 'vias tratamiento recuperacion', 'vicepresidente', 'victima', 'victimas', 'victimas violencia', 'victoria', 'victoria esperanzas', 'victoria esperanzas movimiento', 'victorias', 'vida', 'vida millones', 'vida obra', 'vida obra padre', 'vida planetas', 'vida planetas aplicado', 'vidas', 'videojuegos', 'videos', 'vidrio', 'viendo', 'viene', 'vienen', 'viento', 'viento solar', 'viernes', 'vieron', 'vigilancia', 'villa', 'vimos', 'vino', 'vio', 'violacion', 'violencia', 'virtual', 'virus', 'visible', 'visibles', 'vision', 'vision celulas', 'vision celulas madre', 'visita', 'visita sitios', 'visita sitios grupo', 'visitantes', 'visitas', 'vista', 'visto', 'visual', 'visuales', 'vital', 'viva', 'vive', 'viven', 'vivido', 'vivienda', 'viviendas', 'viviendo', 'vivimos', 'vivir', 'vivo', 'vivos', 'volante', 'volumen', 'voluntad', 'volver', 'volver jugar', 'volver jugar descarga', 'volvera', 'volvio', 'voz', 'vuelo', 'vuelos', 'vuelta', 'vuelto', 'vuelva', 'vuelve', 'vuelven', 'vulnerables', 'web', 'web agencia', 'web agencia licencia', 'web aviso', 'web aviso legal', 'yacimiento', 'yacimientos', 'zona', 'zonas']\n"
     ]
    }
   ],
   "source": [
    " print(vec.get_feature_names())"
   ]
  },
  {
   "cell_type": "code",
   "execution_count": 11,
   "metadata": {},
   "outputs": [
    {
     "name": "stdout",
     "output_type": "stream",
     "text": [
      "[[0 0 0 ... 0 0 0]\n",
      " [0 0 0 ... 0 0 0]\n",
      " [0 0 0 ... 0 0 0]\n",
      " ...\n",
      " [0 0 0 ... 0 0 0]\n",
      " [0 0 0 ... 0 0 0]\n",
      " [0 0 0 ... 0 1 0]]\n"
     ]
    }
   ],
   "source": [
    "print(x_train.toarray())"
   ]
  },
  {
   "cell_type": "markdown",
   "metadata": {},
   "source": [
    "## Model"
   ]
  },
  {
   "cell_type": "code",
   "execution_count": 12,
   "metadata": {
    "pycharm": {
     "name": "#%%\n"
    }
   },
   "outputs": [],
   "source": [
    "classifier = LogisticRegression(C=10, penalty='l1',solver='liblinear', multi_class='auto',max_iter=1000) \n",
    "classifier.fit(x_train, y_train)\n",
    "y_pred = classifier.predict(x_test)"
   ]
  },
  {
   "cell_type": "markdown",
   "metadata": {},
   "source": [
    "## Cross Validation"
   ]
  },
  {
   "cell_type": "code",
   "execution_count": 13,
   "metadata": {},
   "outputs": [
    {
     "name": "stdout",
     "output_type": "stream",
     "text": [
      "Accuracy: 93.0%\n",
      "Accuracy with CV: 92.0%\n"
     ]
    }
   ],
   "source": [
    "cv_score = np.mean(cross_val_score(classifier, x_train, y_train, cv=5, scoring='accuracy'))\n",
    "accuracy = accuracy_score(y_test, y_pred)\n",
    "print('Accuracy: {}%'.format(round(accuracy, 2)*100))\n",
    "print('Accuracy with CV: {}%'.format(round(cv_score, 2)*100))"
   ]
  },
  {
   "cell_type": "markdown",
   "metadata": {},
   "source": [
    "## Metrics"
   ]
  },
  {
   "cell_type": "code",
   "execution_count": 14,
   "metadata": {
    "pycharm": {
     "name": "#%%\n"
    },
    "scrolled": true
   },
   "outputs": [
    {
     "name": "stdout",
     "output_type": "stream",
     "text": [
      "[[ 88   4   0   1   4]\n",
      " [  2  84   3   5   3]\n",
      " [  0   2  80   0   0]\n",
      " [  0   2   1 103   0]\n",
      " [  2   4   0   0 103]]\n",
      "\n",
      "                      precision    recall  f1-score   support\n",
      "\n",
      "Ciencia y Tecnologia       0.96      0.91      0.93        97\n",
      "             Cultura       0.88      0.87      0.87        97\n",
      "            Deportes       0.95      0.98      0.96        82\n",
      "            Economia       0.94      0.97      0.96       106\n",
      "               Salud       0.94      0.94      0.94       109\n",
      "\n",
      "            accuracy                           0.93       491\n",
      "           macro avg       0.93      0.93      0.93       491\n",
      "        weighted avg       0.93      0.93      0.93       491\n",
      "\n"
     ]
    }
   ],
   "source": [
    "print(confusion_matrix(y_test, y_pred))\n",
    "print(\"\")\n",
    "print(classification_report(y_test, y_pred))"
   ]
  },
  {
   "cell_type": "code",
   "execution_count": 15,
   "metadata": {
    "pycharm": {
     "name": "#%%\n"
    }
   },
   "outputs": [
    {
     "name": "stdout",
     "output_type": "stream",
     "text": [
      "Accuracy: 93.0%\n",
      "Recall: 93.0%\n",
      "Precision: 93.0%\n",
      "F1: 93.0%\n"
     ]
    }
   ],
   "source": [
    "accuracy = accuracy_score(y_test, y_pred)\n",
    "recall = recall_score(y_test, y_pred, average='macro')\n",
    "precision = precision_score(y_test, y_pred, average='weighted')\n",
    "f1 = f1_score(y_test, y_pred, average='weighted')\n",
    "print('Accuracy: {}%'.format(round(accuracy, 2)*100))\n",
    "print('Recall: {}%'.format(round(recall, 2)*100))\n",
    "print('Precision: {}%'.format(round(precision, 2)*100))\n",
    "print('F1: {}%'.format(round(f1, 2)*100))"
   ]
  },
  {
   "cell_type": "code",
   "execution_count": null,
   "metadata": {},
   "outputs": [],
   "source": []
  }
 ],
 "metadata": {
  "kernelspec": {
   "display_name": "Python 3",
   "language": "python",
   "name": "python3"
  },
  "language_info": {
   "codemirror_mode": {
    "name": "ipython",
    "version": 3
   },
   "file_extension": ".py",
   "mimetype": "text/x-python",
   "name": "python",
   "nbconvert_exporter": "python",
   "pygments_lexer": "ipython3",
   "version": "3.8.3"
  }
 },
 "nbformat": 4,
 "nbformat_minor": 1
}
