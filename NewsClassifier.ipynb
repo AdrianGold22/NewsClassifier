{
 "cells": [
  {
   "cell_type": "markdown",
   "metadata": {},
   "source": [
    "# 1. Importacion de librerias"
   ]
  },
  {
   "cell_type": "code",
   "execution_count": 44,
   "metadata": {
    "pycharm": {
     "name": "#%%\n"
    },
    "scrolled": false
   },
   "outputs": [],
   "source": [
    "import io\n",
    "import re\n",
    "import nltk\n",
    "from main import initial_path\n",
    "import os\n",
    "import spacy\n",
    "import numpy as np\n",
    "import pandas as pd\n",
    "import matplotlib.pyplot as plt\n",
    "import seaborn as sns\n",
    "from tqdm import tqdm\n",
    "from collections import Counter\n",
    "from imblearn.over_sampling import RandomOverSampler\n",
    "from runs.rss_scraping import rss_scrap, urls\n",
    "from sklearn.feature_extraction.text import CountVectorizer\n",
    "from sklearn.feature_extraction.text import TfidfVectorizer\n",
    "from sklearn.model_selection import train_test_split\n",
    "from sklearn.linear_model import LogisticRegression\n",
    "from sklearn.model_selection import cross_val_score\n",
    "from sklearn.metrics import accuracy_score, recall_score, f1_score, precision_score\n",
    "from sklearn import metrics\n",
    "from sklearn.metrics import classification_report\n",
    "from sklearn.metrics import confusion_matrix\n",
    "from utils.text_analysis import TextAnalysis"
   ]
  },
  {
   "cell_type": "code",
   "execution_count": 6,
   "metadata": {
    "pycharm": {
     "name": "#%%\n"
    }
   },
   "outputs": [
    {
     "name": "stdout",
     "output_type": "stream",
     "text": [
      "Found it\n"
     ]
    }
   ],
   "source": [
    "DIR_PATH = initial_path('Es_News_report')"
   ]
  },
  {
   "cell_type": "markdown",
   "metadata": {},
   "source": [
    "# 2. Obtención y descripción de los datos"
   ]
  },
  {
   "cell_type": "code",
   "execution_count": 8,
   "metadata": {
    "pycharm": {
     "name": "#%%\n"
    },
    "scrolled": true
   },
   "outputs": [
    {
     "data": {
      "text/html": [
       "<div>\n",
       "<style scoped>\n",
       "    .dataframe tbody tr th:only-of-type {\n",
       "        vertical-align: middle;\n",
       "    }\n",
       "\n",
       "    .dataframe tbody tr th {\n",
       "        vertical-align: top;\n",
       "    }\n",
       "\n",
       "    .dataframe thead th {\n",
       "        text-align: right;\n",
       "    }\n",
       "</style>\n",
       "<table border=\"1\" class=\"dataframe\">\n",
       "  <thead>\n",
       "    <tr style=\"text-align: right;\">\n",
       "      <th></th>\n",
       "      <th>title</th>\n",
       "      <th>content</th>\n",
       "      <th>type</th>\n",
       "    </tr>\n",
       "  </thead>\n",
       "  <tbody>\n",
       "    <tr>\n",
       "      <th>0</th>\n",
       "      <td>Los elefantes que pensó Alexánder Robledo</td>\n",
       "      <td>Dice que le gustaría tener un contacto real co...</td>\n",
       "      <td>Cultura</td>\n",
       "    </tr>\n",
       "    <tr>\n",
       "      <th>1</th>\n",
       "      <td>Otra oportunidad para  ver lo mejor de 2016</td>\n",
       "      <td>- 17 años - Jericó, el infinito vuelo de los d...</td>\n",
       "      <td>Cultura</td>\n",
       "    </tr>\n",
       "    <tr>\n",
       "      <th>2</th>\n",
       "      <td>SENSACIÓN CREPUSCULAR</td>\n",
       "      <td>espera el milagroso  esquila del rebaño  venda...</td>\n",
       "      <td>Cultura</td>\n",
       "    </tr>\n",
       "    <tr>\n",
       "      <th>3</th>\n",
       "      <td>Salen los jugadores,  entran los directivos</td>\n",
       "      <td>La temporada que recién terminó para Nacional ...</td>\n",
       "      <td>Deportes</td>\n",
       "    </tr>\n",
       "    <tr>\n",
       "      <th>4</th>\n",
       "      <td>Como sexta en el ranking de la Fifa, Colombia ...</td>\n",
       "      <td>11. Suiza         1129 Sudamérica conserva su ...</td>\n",
       "      <td>Deportes</td>\n",
       "    </tr>\n",
       "  </tbody>\n",
       "</table>\n",
       "</div>"
      ],
      "text/plain": [
       "                                               title  \\\n",
       "0          Los elefantes que pensó Alexánder Robledo   \n",
       "1        Otra oportunidad para  ver lo mejor de 2016   \n",
       "2                              SENSACIÓN CREPUSCULAR   \n",
       "3        Salen los jugadores,  entran los directivos   \n",
       "4  Como sexta en el ranking de la Fifa, Colombia ...   \n",
       "\n",
       "                                             content      type  \n",
       "0  Dice que le gustaría tener un contacto real co...   Cultura  \n",
       "1  - 17 años - Jericó, el infinito vuelo de los d...   Cultura  \n",
       "2  espera el milagroso  esquila del rebaño  venda...   Cultura  \n",
       "3  La temporada que recién terminó para Nacional ...  Deportes  \n",
       "4  11. Suiza         1129 Sudamérica conserva su ...  Deportes  "
      ]
     },
     "execution_count": 8,
     "metadata": {},
     "output_type": "execute_result"
    }
   ],
   "source": [
    "data = pd.read_csv(DIR_PATH, sep=';')\n",
    "data.head()"
   ]
  },
  {
   "cell_type": "markdown",
   "metadata": {
    "pycharm": {
     "name": "#%% md\n"
    }
   },
   "source": [
    "## 2.1. Descripción del contenido"
   ]
  },
  {
   "cell_type": "code",
   "execution_count": 9,
   "metadata": {
    "pycharm": {
     "name": "#%%\n"
    }
   },
   "outputs": [
    {
     "data": {
      "text/html": [
       "<div>\n",
       "<style scoped>\n",
       "    .dataframe tbody tr th:only-of-type {\n",
       "        vertical-align: middle;\n",
       "    }\n",
       "\n",
       "    .dataframe tbody tr th {\n",
       "        vertical-align: top;\n",
       "    }\n",
       "\n",
       "    .dataframe thead th {\n",
       "        text-align: right;\n",
       "    }\n",
       "</style>\n",
       "<table border=\"1\" class=\"dataframe\">\n",
       "  <thead>\n",
       "    <tr style=\"text-align: right;\">\n",
       "      <th></th>\n",
       "      <th>type</th>\n",
       "      <th>content</th>\n",
       "    </tr>\n",
       "  </thead>\n",
       "  <tbody>\n",
       "    <tr>\n",
       "      <th>0</th>\n",
       "      <td>Ciencia y Tecnologia</td>\n",
       "      <td>327</td>\n",
       "    </tr>\n",
       "    <tr>\n",
       "      <th>1</th>\n",
       "      <td>Cultura</td>\n",
       "      <td>324</td>\n",
       "    </tr>\n",
       "    <tr>\n",
       "      <th>2</th>\n",
       "      <td>Deportes</td>\n",
       "      <td>334</td>\n",
       "    </tr>\n",
       "    <tr>\n",
       "      <th>3</th>\n",
       "      <td>Economia</td>\n",
       "      <td>330</td>\n",
       "    </tr>\n",
       "    <tr>\n",
       "      <th>4</th>\n",
       "      <td>Salud</td>\n",
       "      <td>320</td>\n",
       "    </tr>\n",
       "  </tbody>\n",
       "</table>\n",
       "</div>"
      ],
      "text/plain": [
       "                   type  content\n",
       "0  Ciencia y Tecnologia      327\n",
       "1               Cultura      324\n",
       "2              Deportes      334\n",
       "3              Economia      330\n",
       "4                 Salud      320"
      ]
     },
     "execution_count": 9,
     "metadata": {},
     "output_type": "execute_result"
    }
   ],
   "source": [
    "news_by_type = data.groupby(\"type\", as_index=False)['content'].count()\n",
    "news_by_type.head(10)"
   ]
  },
  {
   "cell_type": "code",
   "execution_count": 63,
   "metadata": {
    "scrolled": false
   },
   "outputs": [
    {
     "data": {
      "image/png": "[encoded data removed]",
      "text/plain": [
       "<Figure size 1080x360 with 1 Axes>"
      ]
     },
     "metadata": {
      "needs_background": "light"
     },
     "output_type": "display_data"
    }
   ],
   "source": [
    "plt.figure(figsize=(15,5))\n",
    "sns.barplot(news_by_type['type'].values, news_by_type['content'].values, alpha=0.6)\n",
    "plt.title('Type Frequency by content')\n",
    "plt.ylabel('content', fontsize=10)\n",
    "plt.xlabel('type', fontsize=10)\n",
    "plt.show()"
   ]
  },
  {
   "cell_type": "code",
   "execution_count": 31,
   "metadata": {},
   "outputs": [
    {
     "data": {
      "text/plain": [
       "title      object\n",
       "content    object\n",
       "type       object\n",
       "dtype: object"
      ]
     },
     "execution_count": 31,
     "metadata": {},
     "output_type": "execute_result"
    }
   ],
   "source": [
    "data.dtypes"
   ]
  },
  {
   "cell_type": "code",
   "execution_count": 32,
   "metadata": {},
   "outputs": [
    {
     "name": "stdout",
     "output_type": "stream",
     "text": [
      "Language: es\n",
      "Text Analysis: ['emoji', 'tagger', 'parser', 'stemmer', 'ner']\n"
     ]
    },
    {
     "name": "stderr",
     "output_type": "stream",
     "text": [
      "[nltk_data] Downloading package cess_esp to C:\\Users\\Jesus\n",
      "[nltk_data]     Caraballo\\AppData\\Roaming\\nltk_data...\n",
      "[nltk_data]   Package cess_esp is already up-to-date!\n"
     ]
    }
   ],
   "source": [
    "ta = TextAnalysis('es')\n",
    "nltk.download('cess_esp')\n",
    "words = set(nltk.corpus.cess_esp.words())"
   ]
  },
  {
   "cell_type": "markdown",
   "metadata": {
    "pycharm": {
     "name": "#%% md\n"
    }
   },
   "source": [
    "# 3. Preprocesamiento de textos"
   ]
  },
  {
   "cell_type": "code",
   "execution_count": 33,
   "metadata": {
    "pycharm": {
     "name": "#%%\n"
    },
    "scrolled": true
   },
   "outputs": [
    {
     "name": "stderr",
     "output_type": "stream",
     "text": [
      "100%|██████████| 1635/1635 [01:46<00:00, 15.40it/s]\n"
     ]
    }
   ],
   "source": [
    "setting = {'url': False, 'mention': False, 'emoji': False, 'hashtag': False, 'stopwords': True, 'relabel': False} \n",
    "content_list =  data['content'].to_list()\n",
    "list_sentences = []\n",
    "for row in tqdm(content_list):\n",
    "    text = ta.clean_text(row, **setting)\n",
    "    # Eliminando direcciones de correo\n",
    "    text = re.sub('\\S*@\\S*\\s?', '', text)\n",
    "    # Eliminando palabras en ingles\n",
    "    text = \" \".join(w for w in nltk.wordpunct_tokenize(text) if w.lower() in words or not w.isalpha())\n",
    "    list_sentences.append(text)"
   ]
  },
  {
   "cell_type": "code",
   "execution_count": 12,
   "metadata": {},
   "outputs": [
    {
     "name": "stdout",
     "output_type": "stream",
     "text": [
      "Text org: - 17 años - Jericó, el infinito vuelo de los días Dos veces al año el Colombo Americano y la Revista Kinetoscopio hacen el recuento de lo Mejor del año, una selección que escoge una serie de películas que presentaron en cada semestre y que para el criterio sus expertos son lo más destacado. Para la selección, que la hace el departamento de cine de la Revista Kinetoscopio, tienen en cuenta la asistencia a las salas durante ese periodo, además de los reconocimientos y la participación en festivales internacionales.  - Julieta - Aislados Toda la programación tiene boletería 2x1. - Camino a Estambul - La chica del tren \n",
      "\t\t\tProhibida su reproducción total o parcial. La traducción a cualquier idioma está permitida estrictamente para usos pedagógicos y debe citarse la fuente. Reproduction in whole or in part is forbidden. Translation in any language is permitted strictly for pedagogic uses without written permission, and credits shoud be given to EL MUNDO.\n",
      "      Webmaster: webmaster@elmundo.com - Contáctenos en la Calle 53 #74-50 Barrio Los Colores en Medellín - Colombia - Teléfono (574) 2642800\n",
      "\t\t\t - 24 semanas - Esperando al rey - El último viaje de mi vida “Creo que es importante tener la oportunidad de ver estas películas, no sólo porque son películas estética y narrativamente valiosas, sino por lo difícil que es encontrar cine colombiano y latinoamericano en las salas comerciales. Es una coincidencia afortunada, además, detrás de todas ellas hay directores jóvenes que están renovando tradiciones como las del cine de la violencia (Oscuro animal), el western (Pariente), y el realismo urbano (Los Nadie y Te prometo anarquía)”, concluyó Zuluaga.  El segundo semestre del 2016 no es la excepción y de las películas que proyectaron durante este periodo hay unas que creen que merecen ser exhibidas en la cartelera por segunda vez. Una segunda oportunidad para que muchos que no pudieron verlas-por tiempo o por desconocimiento-,puedan ponerse al tanto de lo mejor del cine de “culto”, en particular de varias películas extranjeras que ganaron premios en festivales internacionales.  Para Pedro Adrián Zuluaga, crítico de cine y exdirector de la Revista Kinetoscopio, es interesante que en esta selección estén algunas películas colombianas y latinoamericanas independientes, ya que es necesario que estos productos, que no tienen mucha cabida en circuitos más comerciales, se presenten de nuevo para las personas que no tuvieron oportunidad de verlas, y por esto, desde su opinión, recomienda cuatro de ellas:  Los Nadie, Oscuro animal, Pariente y Te prometo anarquía.  - Destinos - Últimos días en el desierto \n",
      "\n",
      "Tex clean: años vuelo año americano revista recuento año selección serie películas presentaron semestre criterio expertos destacado selección departamento cine revista asistencia periodo participación internacionales programación . camino chica tren reproducción parcial traducción idioma permitida estrictamente fuente mundo calle barrio colores teléfono semanas esperando rey viaje vida importante oportunidad películas películas estética difícil encontrar cine colombiano latinoamericano comerciales coincidencia directores jóvenes tradiciones cine violencia oscuro animal pariente urbano anarquía concluyó semestre películas periodo creen merecen oportunidad pudieron puedan ponerse cine culto particular películas extranjeras ganaron premios internacionales crítico cine revista interesante selección estén películas colombianas independientes necesario productos cabida circuitos comerciales presenten personas tuvieron oportunidad opinión oscuro animal pariente anarquía destinos desierto\n"
     ]
    }
   ],
   "source": [
    "print('Text org: {0} \\n\\nTex clean: {1}'.format(content_list[1], list_sentences[1]))"
   ]
  },
  {
   "cell_type": "code",
   "execution_count": 34,
   "metadata": {
    "pycharm": {
     "name": "#%%\n"
    }
   },
   "outputs": [],
   "source": [
    "x = list_sentences\n",
    "y = data['type'].to_list()"
   ]
  },
  {
   "cell_type": "code",
   "execution_count": 35,
   "metadata": {
    "pycharm": {
     "name": "#%%\n"
    }
   },
   "outputs": [
    {
     "name": "stdout",
     "output_type": "stream",
     "text": [
      "**Replica y_train: [('Ciencia y Tecnologia', 327), ('Cultura', 324), ('Deportes', 334), ('Economia', 330), ('Salud', 320)]\n"
     ]
    }
   ],
   "source": [
    "print('**Replica y_train:', sorted(Counter(y).items()))"
   ]
  },
  {
   "cell_type": "code",
   "execution_count": 36,
   "metadata": {
    "pycharm": {
     "name": "#%%\n"
    }
   },
   "outputs": [
    {
     "name": "stdout",
     "output_type": "stream",
     "text": [
      "**Replica train: [('Ciencia y Tecnologia', 230), ('Cultura', 227), ('Deportes', 252), ('Economia', 224), ('Salud', 211)], size 1144\n",
      "**Replica test: [('Ciencia y Tecnologia', 97), ('Cultura', 97), ('Deportes', 82), ('Economia', 106), ('Salud', 109)], size 491\n"
     ]
    }
   ],
   "source": [
    "x_train, x_test, y_train, y_test = train_test_split(x, y, test_size=0.30, random_state=8675309)\n",
    "print('**Replica train: {0}, size {1}'.format(sorted(Counter(y_train).items()), len(y_train)))\n",
    "print('**Replica test: {0}, size {1}'.format(sorted(Counter(y_test).items()), len(y_test)))"
   ]
  },
  {
   "cell_type": "markdown",
   "metadata": {},
   "source": [
    "# Features in Bag of Words"
   ]
  },
  {
   "cell_type": "code",
   "execution_count": 37,
   "metadata": {
    "pycharm": {
     "name": "#%%\n"
    }
   },
   "outputs": [],
   "source": [
    "vec = CountVectorizer(min_df=10, ngram_range=(1,3), max_features=5000, strip_accents='unicode', lowercase =True, analyzer='word')\n",
    "vec.fit(x_train)\n",
    "x_train = vec.transform(x_train)\n",
    "x_test = vec.transform(x_test)"
   ]
  },
  {
   "cell_type": "markdown",
   "metadata": {},
   "source": [
    "# Entrenamiento del modelo"
   ]
  },
  {
   "cell_type": "code",
   "execution_count": 47,
   "metadata": {
    "pycharm": {
     "name": "#%%\n"
    }
   },
   "outputs": [],
   "source": [
    "classifier = LogisticRegression(C=10, penalty='l2', solver='newton-cg', multi_class='multinomial',max_iter=1000) \n",
    "classifier.fit(x_train, y_train)\n",
    "y_pred = classifier.predict(x_test)"
   ]
  },
  {
   "cell_type": "markdown",
   "metadata": {},
   "source": [
    "# Validación cruzada"
   ]
  },
  {
   "cell_type": "code",
   "execution_count": 48,
   "metadata": {},
   "outputs": [
    {
     "name": "stdout",
     "output_type": "stream",
     "text": [
      "Accuracy: 96.0%\n",
      "Accuracy with CV: 95.0%\n"
     ]
    }
   ],
   "source": [
    "cv_score = np.mean(cross_val_score(classifier, x_train, y_train, cv=5, scoring='accuracy'))\n",
    "accuracy = accuracy_score(y_test, y_pred)\n",
    "print('Accuracy: {}%'.format(round(accuracy, 2)*100))\n",
    "print('Accuracy with CV: {}%'.format(round(cv_score, 2)*100))"
   ]
  },
  {
   "cell_type": "markdown",
   "metadata": {},
   "source": [
    "# Metricas de analítica predictiva"
   ]
  },
  {
   "cell_type": "code",
   "execution_count": 49,
   "metadata": {
    "pycharm": {
     "name": "#%%\n"
    },
    "scrolled": true
   },
   "outputs": [
    {
     "name": "stdout",
     "output_type": "stream",
     "text": [
      "\n",
      "                      precision    recall  f1-score   support\n",
      "\n",
      "Ciencia y Tecnologia       0.98      0.96      0.97        97\n",
      "             Cultura       0.91      0.94      0.92        97\n",
      "            Deportes       0.95      0.99      0.97        82\n",
      "            Economia       0.96      0.98      0.97       106\n",
      "               Salud       0.97      0.92      0.94       109\n",
      "\n",
      "            accuracy                           0.96       491\n",
      "           macro avg       0.96      0.96      0.96       491\n",
      "        weighted avg       0.96      0.96      0.96       491\n",
      "\n",
      "1:Ciencia y Tecnologia 2:Cultura 3:Deportes 4:Economia 5:Salud\n"
     ]
    },
    {
     "data": {
      "image/png": "[encoded data removed]",
      "text/plain": [
       "<Figure size 432x288 with 2 Axes>"
      ]
     },
     "metadata": {
      "needs_background": "light"
     },
     "output_type": "display_data"
    }
   ],
   "source": [
    "cm=confusion_matrix(y_test, y_pred)\n",
    "ax= plt.subplot()\n",
    "sns.heatmap(cm, annot=True, ax = ax); #annot=True to annotate cells\n",
    "\n",
    "# labels, title and ticks\n",
    "ax.set_xlabel('Predicted labels');ax.set_ylabel('True labels'); \n",
    "ax.set_title('Confusion Matrix'); \n",
    "ax.xaxis.set_ticklabels(['1', '2', '3', '4', '5' ]); ax.yaxis.set_ticklabels(['1', '2', '3', '4', '5']);\n",
    "print(\"\")\n",
    "print(classification_report(y_test, y_pred))\n",
    "print('1:Ciencia y Tecnologia','','2:Cultura', '3:Deportes', '4:Economia', '5:Salud')"
   ]
  },
  {
   "cell_type": "code",
   "execution_count": 50,
   "metadata": {
    "pycharm": {
     "name": "#%%\n"
    }
   },
   "outputs": [
    {
     "name": "stdout",
     "output_type": "stream",
     "text": [
      "Accuracy: 96.0%\n",
      "Recall: 96.0%\n",
      "Precision: 96.0%\n",
      "F1: 96.0%\n"
     ]
    }
   ],
   "source": [
    "accuracy = accuracy_score(y_test, y_pred)\n",
    "recall = recall_score(y_test, y_pred, average='macro')\n",
    "precision = precision_score(y_test, y_pred, average='weighted')\n",
    "f1 = f1_score(y_test, y_pred, average='weighted')\n",
    "print('Accuracy: {}%'.format(round(accuracy, 2)*100))\n",
    "print('Recall: {}%'.format(round(recall, 2)*100))\n",
    "print('Precision: {}%'.format(round(precision, 2)*100))\n",
    "print('F1: {}%'.format(round(f1, 2)*100))"
   ]
  },
  {
   "cell_type": "code",
   "execution_count": null,
   "metadata": {},
   "outputs": [],
   "source": []
  }
 ],
 "metadata": {
  "kernelspec": {
   "display_name": "Python 3",
   "language": "python",
   "name": "python3"
  },
  "language_info": {
   "codemirror_mode": {
    "name": "ipython",
    "version": 3
   },
   "file_extension": ".py",
   "mimetype": "text/x-python",
   "name": "python",
   "nbconvert_exporter": "python",
   "pygments_lexer": "ipython3",
   "version": "3.8.3"
  }
 },
 "nbformat": 4,
 "nbformat_minor": 1
}
